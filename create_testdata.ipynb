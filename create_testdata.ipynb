{
 "cells": [
  {
   "cell_type": "code",
   "execution_count": 27,
   "metadata": {},
   "outputs": [
    {
     "name": "stdout",
     "output_type": "stream",
     "text": [
      "saved to /home/lillemor/Documents/lgd-utils/asset-data-extraction/data/input/boreprofile/43283_41.pdf\n"
     ]
    }
   ],
   "source": [
    "import os\n",
    "import pymupdf\n",
    "from PIL import Image\n",
    "\n",
    "\n",
    "base_dir = os.getcwd()\n",
    "filename = \"43283.pdf\"\n",
    "\n",
    "pdf_path = os.path.join(base_dir, \"data/input\", filename)\n",
    "out_dir = os.path.join(base_dir, \"data/input/boreprofile\")\n",
    "\n",
    "wanted_page = 41\n",
    "\n",
    "with pymupdf.open(pdf_path) as doc:\n",
    "    out_path= os.path.join(out_dir,f\"{ os.path.splitext(filename)[0]}_{wanted_page}.pdf\")\n",
    "    new_doc = pymupdf.open()\n",
    "    for page_index,page in enumerate(doc):\n",
    "        page_number = page_index +1\n",
    "\n",
    "        if page_number == wanted_page:\n",
    "            # pixmap = page.get_pixmap()\n",
    "            # image = Image.frombytes(\"RGB\", [pixmap.width, pixmap.height], pixmap.samples)\n",
    "            # image.show()\n",
    "            \n",
    "            new_doc.insert_pdf(doc, from_page=wanted_page-1, to_page=wanted_page-1)\n",
    "            new_doc.save(out_path)\n",
    "            new_doc.close()\n",
    "    print(f\"saved to {out_path}\")"
   ]
  }
 ],
 "metadata": {
  "kernelspec": {
   "display_name": "venv",
   "language": "python",
   "name": "python3"
  },
  "language_info": {
   "codemirror_mode": {
    "name": "ipython",
    "version": 3
   },
   "file_extension": ".py",
   "mimetype": "text/x-python",
   "name": "python",
   "nbconvert_exporter": "python",
   "pygments_lexer": "ipython3",
   "version": "3.10.12"
  }
 },
 "nbformat": 4,
 "nbformat_minor": 2
}
