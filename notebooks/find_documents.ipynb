{
 "cells": [
  {
   "cell_type": "code",
   "execution_count": 1,
   "metadata": {},
   "outputs": [],
   "source": [
    "import os\n",
    "import pandas as pd\n",
    "from PyPDF2 import PdfMerger, PdfWriter, PdfReader\n",
    "\n",
    "base_dir = os.getcwd() \n",
    "\n",
    "input_folder = os.path.join(base_dir,\"data/legaldocs_redo/buchi_muller_ldocs\")\n",
    "output_folder = os.path.join(base_dir,\"data/legaldocs_redo/ldocs_new\")\n",
    "extend_with = os.path.join(base_dir,\"data/legaldocs_redo/extend_with\")\n",
    "\n"
   ]
  },
  {
   "cell_type": "code",
   "execution_count": null,
   "metadata": {},
   "outputs": [],
   "source": [
    "## find all files with certain keyword in all subfolders of base directory\n",
    "\n",
    "def search_files_and_folders(base_dir, keyword):\n",
    "    matches = {'files': [], 'folders': []}\n",
    "    \n",
    "    for root, dirs, files in os.walk(base_dir):\n",
    "        for d in dirs:\n",
    "            if keyword.lower() in d.lower():\n",
    "                matches['folders'].append(os.path.join(root, d))\n",
    "\n",
    "        for f in files:\n",
    "            if keyword.lower() in f.lower():\n",
    "                matches['files'].append(os.path.join(root, f))\n",
    "\n",
    "    return matches\n",
    "\n",
    "base_directory = \"/home/lillemor/\"\n",
    "\n",
    "# keyword = \"Baersol\"\n",
    "# results = search_files_and_folders(base_directory, keyword)\n",
    "        \n",
    "# for folder in results['folders']:\n",
    "#     print(folder)\n",
    "\n",
    "# for file in results['files']:\n",
    "#     print(file)\n"
   ]
  },
  {
   "cell_type": "code",
   "execution_count": null,
   "metadata": {},
   "outputs": [],
   "source": [
    "## extend legaldocs of büchi mülle with legal docs of csd\n",
    "\n",
    "csv_file = os.path.join(base_dir, \"data/legaldocs_redo/Büchi_müller_ag.csv\")\n",
    "df = pd.read_csv(csv_file)\n",
    "\n",
    "sgs_ids = df['sgs_id'].dropna().astype(int).astype(str).tolist()\n",
    "\n",
    "print(\"$sgsIds = @(\")\n",
    "for i, sgs_id in enumerate(sgs_ids):\n",
    "    end = \",\" if i < len(sgs_ids) - 1 else \"\"  # Add comma except for the last item\n",
    "    print(f'    \"{sgs_id}\"{end}')\n",
    "print(\")\")"
   ]
  },
  {
   "cell_type": "code",
   "execution_count": 4,
   "metadata": {},
   "outputs": [
    {
     "name": "stdout",
     "output_type": "stream",
     "text": [
      "179\n",
      "Total missing legal docs: 3\n",
      "Missing asset IDs: ['44102', '44136', '44194']\n"
     ]
    }
   ],
   "source": [
    "import os\n",
    "\n",
    "pdf_files = [file.lower() for file in os.listdir(input_folder) if file.lower().endswith(\".pdf\")]\n",
    "print(len(pdf_files))\n",
    "\n",
    "missing_docs = []\n",
    "\n",
    "# Check if each sgs_id is found in the filenames\n",
    "for sgs_id in sgs_ids:\n",
    "    if not any(f\"{sgs_id}\" in file for file in pdf_files):  # Fixed issue here\n",
    "        missing_docs.append(sgs_id)  # Fixed issue here\n",
    "\n",
    "print(f\"Total missing legal docs: {len(missing_docs)}\")\n",
    "print(\"Missing asset IDs:\", missing_docs)\n"
   ]
  },
  {
   "cell_type": "code",
   "execution_count": 5,
   "metadata": {},
   "outputs": [],
   "source": [
    "pdfs_to_merge = [\n",
    "    (\"CSD-Liebefeld-20060620.pdf\", [0]),        # First page\n",
    "    (\"CSD-VD-19860624.pdf\", [0, 2]),            # First and third page\n",
    "    (\"CSD-VD-20070702.pdf\", [0, 2]),            # First and third page\n",
    "    (\"CSD-Liebefeld-19810911.pdf\", [0]),        # First page\n",
    "    (\"CSD-19730309-2.pdf\", [0]),                # First page\n",
    "    (\"CSD-19730309-1.pdf\", [0,1]),                # First page\n",
    "    (\"CSD-19720525.pdf\", [0])                   # First page\n",
    "]"
   ]
  },
  {
   "cell_type": "code",
   "execution_count": 6,
   "metadata": {},
   "outputs": [
    {
     "name": "stdout",
     "output_type": "stream",
     "text": [
      "Merged PDF created at: /home/lillemor/Documents/lgd-utils/asset-data-extraction/data/legaldocs_redo/extend_with/CSD_LegalDocs_merged.pdf\n"
     ]
    }
   ],
   "source": [
    "##create merged CSD legal doc\n",
    "pdf_writer = PdfWriter()\n",
    "merged_output_pdf = os.path.join(os.getcwd(), \"data/legaldocs_redo/extend_with/CSD_LegalDocs_merged.pdf\")\n",
    "\n",
    "for pdf_file, pages in pdfs_to_merge:\n",
    "    pdf_path = os.path.join(extend_with, pdf_file)\n",
    "    \n",
    "    if os.path.exists(pdf_path):  # Check if file exists\n",
    "        pdf_reader = PdfReader(pdf_path)\n",
    "        \n",
    "        for page_num in pages:\n",
    "            if page_num < len(pdf_reader.pages):  # Ensure page exists\n",
    "                pdf_writer.add_page(pdf_reader.pages[page_num])\n",
    "            else:\n",
    "                print(f\"Warning: {pdf_file} does not have page {page_num + 1}\")\n",
    "    else:\n",
    "        print(f\"Warning: File not found: {pdf_file}\")\n",
    "\n",
    "# Save the merged PDF\n",
    "with open(merged_output_pdf, \"wb\") as output_file:\n",
    "    pdf_writer.write(output_file)\n",
    "\n",
    "print(f\"Merged PDF created at: {merged_output_pdf}\")"
   ]
  },
  {
   "cell_type": "code",
   "execution_count": null,
   "metadata": {},
   "outputs": [],
   "source": [
    "merged_csd_pdf = os.path.join(base_dir, \"data/legaldocs_redo/extend_with/CSD_LegalDocs_merged.pdf\")\n",
    "csd_overtake = os.path.join(base_dir, \"data/legaldocs_redo/extend_with/CSD_uebernahme.pdf\")\n",
    "\n",
    "#check that output directory exists\n",
    "os.makedirs(output_folder, exist_ok=True)\n",
    "# Check if merged CSD legal doc and csd overtake doc exist\n",
    "if not os.path.exists(merged_csd_pdf):\n",
    "    raise FileNotFoundError(f\"Merged CSD document not found: {merged_csd_pdf}\")\n",
    "if not os.path.exists(csd_overtake):\n",
    "    raise FileNotFoundError(f\"CSD takeover document not found: {csd_overtake}\")\n",
    "\n",
    "csd_overtake_reader = PdfReader(csd_overtake)\n",
    "csd_reader = PdfReader(merged_csd_pdf)\n",
    "\n",
    "for file in os.listdir(input_folder):\n",
    "    if file.lower().endswith(\".pdf\"):\n",
    "        input_pdf_path = os.path.join(input_folder, file)\n",
    "        output_pdf_path = os.path.join(output_folder, file)\n",
    "\n",
    "        # Read input pdf\n",
    "        input_reader = PdfReader(input_pdf_path)\n",
    "        pdf_writer = PdfWriter()\n",
    "\n",
    "        # Add all pages from input pdf\n",
    "        for page in input_reader.pages:\n",
    "            pdf_writer.add_page(page)\n",
    "            \n",
    "        # Add the CSD takeover document\n",
    "        for page in csd_overtake_reader.pages:\n",
    "            pdf_writer.add_page(page)\n",
    "            \n",
    "        # Append all pages from the merged CSD legaldoc\n",
    "        for page in csd_reader.pages:\n",
    "            pdf_writer.add_page(page)\n",
    "\n",
    "        # Save the extended PDF\n",
    "        with open(output_pdf_path, \"wb\") as output_file:\n",
    "            pdf_writer.write(output_file)\n",
    "\n",
    "        print(f\"Extended and saved: {file}\")\n",
    "\n",
    "print(\"\\nAll PDFs have been extended with the CSD legal docs.\")"
   ]
  }
 ],
 "metadata": {
  "kernelspec": {
   "display_name": "venv",
   "language": "python",
   "name": "python3"
  },
  "language_info": {
   "codemirror_mode": {
    "name": "ipython",
    "version": 3
   },
   "file_extension": ".py",
   "mimetype": "text/x-python",
   "name": "python",
   "nbconvert_exporter": "python",
   "pygments_lexer": "ipython3",
   "version": "3.10.12"
  }
 },
 "nbformat": 4,
 "nbformat_minor": 2
}
