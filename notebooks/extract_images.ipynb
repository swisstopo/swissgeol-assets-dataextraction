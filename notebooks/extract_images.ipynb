{
 "cells": [
  {
   "cell_type": "code",
   "execution_count": 12,
   "metadata": {},
   "outputs": [],
   "source": [
    "import os\n",
    "import pymupdf\n",
    "from PIL import Image\n",
    "import io\n",
    "import sys\n",
    "from pathlib import Path\n",
    "\n",
    "repo_root = Path.cwd().parent.resolve()\n",
    "\n",
    "src_path = repo_root / \"src\"\n",
    "sys.path.append(str(src_path))\n",
    "\n",
    "\n",
    "from text import  create_text_lines, create_text_blocks\n",
    "from bounding_box import cluster_drawings\n",
    "from bounding_box import expand_bbox\n",
    "from utils import cluster_text_elements"
   ]
  },
  {
   "cell_type": "code",
   "execution_count": 23,
   "metadata": {},
   "outputs": [],
   "source": [
    "def get_pdf_files(input_path: Path) -> list[Path]:\n",
    "    if input_path.is_dir():\n",
    "        return [f for f in input_path.rglob(\"*.pdf\")]\n",
    "    elif input_path.is_file() and input_path.suffix.lower() == '.pdf':\n",
    "        return [input_path]\n",
    "    return []"
   ]
  },
  {
   "cell_type": "code",
   "execution_count": 24,
   "metadata": {},
   "outputs": [
    {
     "name": "stdout",
     "output_type": "stream",
     "text": [
      "/home/lillemor/Documents/lgd-utils/asset-data-extraction/data/input/single_pages/unknown/1801_35.pdf\n"
     ]
    }
   ],
   "source": [
    "input_path = Path(repo_root / \"data/input/single_pages/unknown/1801_35.pdf\" )\n",
    "file_paths = get_pdf_files(input_path)\n",
    "print(input_path)"
   ]
  },
  {
   "cell_type": "code",
   "execution_count": 20,
   "metadata": {},
   "outputs": [
    {
     "name": "stdout",
     "output_type": "stream",
     "text": [
      "Images and drawings extracted to: /home/lillemor/Documents/lgd-utils/asset-data-extraction/data/test/1801_35.pdf\n"
     ]
    }
   ],
   "source": [
    "##extract images and drawings from document\n",
    "for pdf_path in file_paths:\n",
    "    filename = pdf_path.name\n",
    "    out_dir = repo_root / \"data/test/\" / filename\n",
    "    out_dir.mkdir(parents=True, exist_ok=True)\n",
    "    with pymupdf.Document(pdf_path) as doc:\n",
    "        for page_index,page in enumerate(doc):\n",
    "            page_number = page_index + 1\n",
    "            #extract images\n",
    "            image_list = page.get_images()        \n",
    "            for image_idx, img in enumerate(image_list):\n",
    "                xref = img[0] \n",
    "            # extract image bytes \n",
    "                base_image = doc.extract_image(xref)\n",
    "                image_bytes = base_image[\"image\"]\n",
    "                # get image extension\n",
    "                image_ext = base_image[\"ext\"]\n",
    "                \n",
    "                pil_image = Image.open(io.BytesIO(image_bytes))\n",
    "                # Save the image to disk\n",
    "                image_path = os.path.join(out_dir,f\"image_{page_number}_{image_idx}.{image_ext}\")\n",
    "                pil_image.save(image_path)\n",
    "\n",
    "            #extract drawings\n",
    "            drawings = page.get_drawings()\n",
    "            rotation = page.rotation\n",
    "            if drawings:\n",
    "                out_doc = pymupdf.open()\n",
    "                outpage = out_doc.new_page(width=page.mediabox_size.x, height=page.mediabox_size.y)\n",
    "                shape = outpage.new_shape() \n",
    "                for draw_idx,drawing in enumerate(drawings):\n",
    "            \n",
    "                    for item in drawing[\"items\"]:  # these are the draw commands\n",
    "                        if item[0] == \"l\":  # line\n",
    "                            shape.draw_line(item[1], item[2])\n",
    "                        elif item[0] == \"re\":  # rectangle\n",
    "                            shape.draw_rect(item[1])\n",
    "                        elif item[0] == \"qu\":  # quad\n",
    "                            shape.draw_quad(item[1])\n",
    "                        elif item[0] == \"c\":  # curve\n",
    "                            shape.draw_bezier(item[1], item[2], item[3], item[4])\n",
    "                        else:\n",
    "                            raise ValueError(\"unhandled drawing\", item)\n",
    "                            \n",
    "                    shape.finish(\n",
    "                        fill=drawing.get(\"fill\", None),  # Fill color\n",
    "                        color=drawing.get(\"color\", None),  # Line color\n",
    "                        dashes=drawing.get(\"dashes\", None),  # Line dashing\n",
    "                    )\n",
    "                shape.commit()\n",
    "                outpage.set_rotation(rotation)\n",
    "                out_drawing= os.path.join(out_dir,filename,f\"drawing_page_{page_number}.pdf\")\n",
    "                out_doc.save(out_drawing)\n",
    "    print(f\"Images and drawings extracted to: {out_dir}\")"
   ]
  },
  {
   "cell_type": "code",
   "execution_count": null,
   "metadata": {},
   "outputs": [
    {
     "name": "stdout",
     "output_type": "stream",
     "text": [
      "/home/lillemor/Documents/lgd-utils/asset-data-extraction/data/test/1801_35/1801_35.pdf\n"
     ]
    }
   ],
   "source": [
    "##draw bounding boxes of text and drawings and texblocks\n",
    "for pdf_path in file_paths:\n",
    "    filename = pdf_path.name\n",
    "    out_dir = repo_root / \"data/test\" / pdf_path.stem\n",
    "    out_dir.mkdir(parents=True, exist_ok=True)\n",
    "    with pymupdf.open(pdf_path) as doc:\n",
    "        for page_index,page in enumerate(doc):\n",
    "            page_number = page_index +1\n",
    "            matrix = page.derotation_matrix\n",
    "\n",
    "            lines_per_page= create_text_lines(page,page_number)\n",
    "            reading_blocks = create_text_blocks(lines_per_page)\n",
    "            # filtered_lines = [line for line in lines_per_page if len(line.words) < 4]\n",
    "            # clusters = cluster_text_elements(filtered_lines,\n",
    "            #                              key_fn= lambda line:line.rect.x0)\n",
    "            shape = page.new_shape()\n",
    "\n",
    "            for block in reading_blocks:\n",
    "                padded_block = expand_bbox(block.rect, 3)\n",
    "                shape.draw_rect(padded_block * matrix if page.rotation else padded_block)\n",
    "            \n",
    "            shape.finish(color=(0, 0, 1), width=1)\n",
    "\n",
    "            # if filtered_lines:\n",
    "            #     for cluster in clusters:\n",
    "                    \n",
    "            #         cluster_rect =pymupdf.Rect(min([line.rect.x0 for line in cluster]),\n",
    "            #                                     min([line.rect.y0 for line in cluster]),\n",
    "            #                                     max([line.rect.x1 for line in cluster]),\n",
    "            #                                     max([line.rect.y1 for line in cluster]))\n",
    "            #         shape.draw_rect(cluster_rect* matrix if page.rotation else cluster_rect) \n",
    "                \n",
    "            #     shape.finish(color=(0, 0, 1), width=1)\n",
    "\n",
    "            \n",
    "            for text_line in lines_per_page:\n",
    "                shape.draw_rect(text_line.rect * matrix if page.rotation else text_line.rect)\n",
    "\n",
    "            shape.finish(color=(1, 0, 0), width=1)\n",
    "            \n",
    "            drawings = page.get_drawings()\n",
    "            if drawings:\n",
    "                clustered_boxes = cluster_drawings(drawings)\n",
    "                print(f\"Page number:{page_number}, drawings with length {len(drawings)}, clustered {len(clustered_boxes)}\")\n",
    "                for cluster in clustered_boxes:\n",
    "                    shape.draw_rect(cluster)\n",
    "                \n",
    "            shape.finish(color =(148/255, 0, 211/255),width = 1)\n",
    "            shape.commit()\n",
    "\n",
    "        doc.save(os.path.join(out_dir, f\"{filename}\"))    \n",
    "        print(f\"{os.path.join(out_dir, f'{filename}')}\")    \n"
   ]
  }
 ],
 "metadata": {
  "kernelspec": {
   "display_name": "Python (venv)",
   "language": "python",
   "name": "venv"
  },
  "language_info": {
   "codemirror_mode": {
    "name": "ipython",
    "version": 3
   },
   "file_extension": ".py",
   "mimetype": "text/x-python",
   "name": "python",
   "nbconvert_exporter": "python",
   "pygments_lexer": "ipython3",
   "version": "3.10.12"
  }
 },
 "nbformat": 4,
 "nbformat_minor": 2
}
