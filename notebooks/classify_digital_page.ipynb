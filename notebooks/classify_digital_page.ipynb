{
 "cells": [
  {
   "cell_type": "code",
   "execution_count": null,
   "metadata": {},
   "outputs": [
    {
     "name": "stdout",
     "output_type": "stream",
     "text": [
      "The autoreload extension is already loaded. To reload it, use:\n",
      "  %reload_ext autoreload\n"
     ]
    }
   ],
   "source": [
    "%load_ext autoreload\n",
    "%autoreload 2\n",
    "\n",
    "import os\n",
    "import pymupdf\n",
    "import json\n",
    "import sys\n",
    "\n",
    "repo_root = os.path.abspath(os.path.join(os.getcwd(), \"..\"))\n",
    "sys.path.append(os.path.join(repo_root, \"src\"))\n",
    "\n",
    "from text import extract_words\n",
    "from bounding_box import cluster_drawings\n",
    "from utils import is_digitally_born, classify_text_density, process_documents\n"
   ]
  },
  {
   "cell_type": "code",
   "execution_count": 3,
   "metadata": {},
   "outputs": [],
   "source": [
    "\n",
    "filename =\"Berichte_NAB 10-025_Kurzarbeitsprogram Geothermiebohrung Schlattingen.PDF\"\n",
    "\n",
    "pdf_path = os.path.join(repo_root, \"data/NAB\", filename)\n",
    "out_dir = os.path.join(repo_root, \"data/test\", os.path.splitext(filename)[0])\n"
   ]
  },
  {
   "cell_type": "code",
   "execution_count": 4,
   "metadata": {},
   "outputs": [],
   "source": [
    "def classify_digital(page):\n",
    "    if page.get_images():\n",
    "        return \" image\"\n",
    "\n",
    "    drawings = page.get_drawings()\n",
    "    if drawings:\n",
    "        clustered_boxes = cluster_drawings(drawings)\n",
    "\n",
    "        for cluster in clustered_boxes: #filter out small bboxes\n",
    "            if cluster.get_area() > 100000:\n",
    "                return \" drawing\"\n",
    "    return \" text\""
   ]
  },
  {
   "cell_type": "code",
   "execution_count": 5,
   "metadata": {},
   "outputs": [],
   "source": [
    "##classify pdf based on image, drawing and text\n",
    "def classify_pages(doc):\n",
    "    results ={}\n",
    "    for page_index, page in enumerate(doc):\n",
    "        page_number = page_index + 1\n",
    "        page_size = (page.rect.width, page.rect.height)\n",
    "        \n",
    "        digitally_born = is_digitally_born(doc[page_index])\n",
    "\n",
    "        if digitally_born:\n",
    "            page_type = classify_digital(page)\n",
    "        \n",
    "        else:\n",
    "            words = extract_words(page, page_number)\n",
    "            page_type = classify_text_density(words, page_size)\n",
    "        \n",
    "        results[page_number] = { \"page_type\":page_type,\n",
    "                                \"digitally_born\": digitally_born}\n",
    "            \n",
    "    return results\n"
   ]
  },
  {
   "cell_type": "code",
   "execution_count": 6,
   "metadata": {},
   "outputs": [],
   "source": [
    "predictions = process_documents(pdf_path, classify_pages)\n",
    "with open(os.path.join(repo_root,\"data/predictions.json\"), 'w', encoding='utf-8') as json_file:\n",
    "        json.dump(predictions, json_file, indent=4, ensure_ascii=False)"
   ]
  }
 ],
 "metadata": {
  "kernelspec": {
   "display_name": "Python (venv)",
   "language": "python",
   "name": "venv"
  },
  "language_info": {
   "codemirror_mode": {
    "name": "ipython",
    "version": 3
   },
   "file_extension": ".py",
   "mimetype": "text/x-python",
   "name": "python",
   "nbconvert_exporter": "python",
   "pygments_lexer": "ipython3",
   "version": "3.10.12"
  }
 },
 "nbformat": 4,
 "nbformat_minor": 2
}
