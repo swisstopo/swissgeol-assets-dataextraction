{
 "cells": [
  {
   "cell_type": "code",
   "execution_count": 1,
   "metadata": {},
   "outputs": [],
   "source": [
    "%load_ext autoreload\n",
    "%autoreload 2\n",
    "\n",
    "import os\n",
    "import pymupdf\n",
    "import json\n",
    "import sys\n",
    "\n",
    "\n",
    "repo_root = os.path.abspath(os.path.join(os.getcwd(), \"..\"))\n",
    "if repo_root not in sys.path:\n",
    "    sys.path.append(repo_root)\n",
    "\n",
    "from src.text import extract_words, process_documents\n",
    "from src.bounding_box import cluster_drawings\n",
    "from src.utils import is_digitally_born, classify_text_density\n"
   ]
  },
  {
   "cell_type": "code",
   "execution_count": 2,
   "metadata": {},
   "outputs": [],
   "source": [
    "filename =\"Berichte_NAB 10-025_Kurzarbeitsprogram Geothermiebohrung Schlattingen.PDF\"\n",
    "\n",
    "pdf_path = os.path.join(repo_root, \"data/NAB\", filename)\n",
    "out_dir = os.path.join(repo_root, \"data/test\", os.path.splitext(filename)[0])\n"
   ]
  },
  {
   "cell_type": "code",
   "execution_count": 3,
   "metadata": {},
   "outputs": [],
   "source": [
    "def classify_digital(page):\n",
    "    if page.get_images():\n",
    "        return \" image\"\n",
    "\n",
    "    drawings = page.get_drawings()\n",
    "    if drawings:\n",
    "        clustered_boxes = cluster_drawings(drawings)\n",
    "\n",
    "        for cluster in clustered_boxes: #filter out small bboxes\n",
    "            if cluster.get_area() > 100000:\n",
    "                return \" drawing\"\n",
    "    return \" text\""
   ]
  },
  {
   "cell_type": "code",
   "execution_count": 4,
   "metadata": {},
   "outputs": [],
   "source": [
    "##classify pdf based on image, drawing and text\n",
    "def classify_pages(doc):\n",
    "    results ={}\n",
    "    for page_index, page in enumerate(doc):\n",
    "        page_number = page_index + 1\n",
    "        page_size = (page.rect.width, page.rect.height)\n",
    "        \n",
    "        digitally_born = is_digitally_born(doc[page_index])\n",
    "\n",
    "        if digitally_born:\n",
    "            page_type = classify_digital(page)\n",
    "        \n",
    "        else:\n",
    "            words = extract_words(page, page_number)\n",
    "            page_type = classify_text_density(words, page_size)\n",
    "        \n",
    "        results[page_number] = { \"page_type\":page_type,\n",
    "                                \"digitally_born\": digitally_born}\n",
    "            \n",
    "    return results\n"
   ]
  },
  {
   "cell_type": "code",
   "execution_count": null,
   "metadata": {},
   "outputs": [
    {
     "ename": "TypeError",
     "evalue": "process_documents() takes 1 positional argument but 2 were given",
     "output_type": "error",
     "traceback": [
      "\u001b[0;31m---------------------------------------------------------------------------\u001b[0m",
      "\u001b[0;31mTypeError\u001b[0m                                 Traceback (most recent call last)",
      "Cell \u001b[0;32mIn[5], line 1\u001b[0m\n\u001b[0;32m----> 1\u001b[0m predictions \u001b[38;5;241m=\u001b[39m \u001b[43mprocess_documents\u001b[49m\u001b[43m(\u001b[49m\u001b[43mpdf_path\u001b[49m\u001b[43m,\u001b[49m\u001b[43m \u001b[49m\u001b[43mclassify_pages\u001b[49m\u001b[43m)\u001b[49m\n\u001b[1;32m      2\u001b[0m \u001b[38;5;28;01mwith\u001b[39;00m \u001b[38;5;28mopen\u001b[39m(os\u001b[38;5;241m.\u001b[39mpath\u001b[38;5;241m.\u001b[39mjoin(repo_root,\u001b[38;5;124m\"\u001b[39m\u001b[38;5;124mdata/predictions.json\u001b[39m\u001b[38;5;124m\"\u001b[39m), \u001b[38;5;124m'\u001b[39m\u001b[38;5;124mw\u001b[39m\u001b[38;5;124m'\u001b[39m, encoding\u001b[38;5;241m=\u001b[39m\u001b[38;5;124m'\u001b[39m\u001b[38;5;124mutf-8\u001b[39m\u001b[38;5;124m'\u001b[39m) \u001b[38;5;28;01mas\u001b[39;00m json_file:\n\u001b[1;32m      3\u001b[0m         json\u001b[38;5;241m.\u001b[39mdump(predictions, json_file, indent\u001b[38;5;241m=\u001b[39m\u001b[38;5;241m4\u001b[39m, ensure_ascii\u001b[38;5;241m=\u001b[39m\u001b[38;5;28;01mFalse\u001b[39;00m)\n",
      "\u001b[0;31mTypeError\u001b[0m: process_documents() takes 1 positional argument but 2 were given"
     ]
    }
   ],
   "source": [
    "predictions = process_documents(pdf_path)\n",
    "with open(os.path.join(repo_root,\"data/predictions.json\"), 'w', encoding='utf-8') as json_file:\n",
    "        json.dump(predictions, json_file, indent=4, ensure_ascii=False)"
   ]
  }
 ],
 "metadata": {
  "kernelspec": {
   "display_name": "Python (venv)",
   "language": "python",
   "name": "venv"
  },
  "language_info": {
   "codemirror_mode": {
    "name": "ipython",
    "version": 3
   },
   "file_extension": ".py",
   "mimetype": "text/x-python",
   "name": "python",
   "nbconvert_exporter": "python",
   "pygments_lexer": "ipython3",
   "version": "3.10.12"
  }
 },
 "nbformat": 4,
 "nbformat_minor": 2
}
