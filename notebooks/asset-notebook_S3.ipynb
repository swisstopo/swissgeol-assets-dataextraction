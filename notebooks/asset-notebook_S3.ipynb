{
 "cells": [
  {
   "cell_type": "code",
   "execution_count": 3,
   "metadata": {},
   "outputs": [
    {
     "name": "stdout",
     "output_type": "stream",
     "text": [
      "The autoreload extension is already loaded. To reload it, use:\n",
      "  %reload_ext autoreload\n"
     ]
    },
    {
     "data": {
      "text/plain": [
       "'Notebook to retrieve files from the S3 bucket'"
      ]
     },
     "execution_count": 3,
     "metadata": {},
     "output_type": "execute_result"
    }
   ],
   "source": [
    "%load_ext autoreload\n",
    "%autoreload 2\n",
    "\n",
    "import os\n",
    "import fitz\n",
    "import boto3\n",
    "import pandas as pd\n",
    "from tqdm import tqdm\n",
    "import random\n",
    "import sys\n",
    "from pathlib import Path\n",
    "\n",
    "repo_root = Path.cwd().parent.resolve()\n",
    "sys.path.append(str(repo_root))\n",
    "\n",
    "\n",
    "from src.utils import is_digitally_born\n",
    "\n",
    "\"\"\"Notebook to retrieve files from the S3 bucket\"\"\""
   ]
  },
  {
   "cell_type": "code",
   "execution_count": 2,
   "metadata": {},
   "outputs": [],
   "source": [
    "s3_input = \"asset/asset_files_new_ocr/\"\n",
    "s3_aws_profile = \"779726271945_swissgeol-assets-ro\"\n",
    "s3_session = boto3.Session(profile_name=s3_aws_profile)\n",
    "s3 = s3_session.resource('s3')\n",
    "bucket = s3.Bucket('swissgeol-assets-swisstopo')"
   ]
  },
  {
   "cell_type": "code",
   "execution_count": 3,
   "metadata": {},
   "outputs": [],
   "source": [
    "objs = list(bucket.objects.filter(Prefix=s3_input))"
   ]
  },
  {
   "cell_type": "code",
   "execution_count": 4,
   "metadata": {},
   "outputs": [
    {
     "name": "stdout",
     "output_type": "stream",
     "text": [
      "/data/text_files\n"
     ]
    }
   ],
   "source": [
    "output_dir =  repo_root / \"/data/text_files\"\n",
    "\n",
    "def key_to_filename(key):\n",
    "    return key.split(\"/\")[-1]\n",
    "\n",
    "print(output_dir)"
   ]
  },
  {
   "cell_type": "code",
   "execution_count": null,
   "metadata": {},
   "outputs": [],
   "source": [
    "# count page number of pdfs and save to data\n",
    "output_path = repo_root / \"/data/page_numbers.csv\"\n",
    "\n",
    "page_data = []\n",
    "with tqdm(total=len(objs)) as pbar:\n",
    "\n",
    "    for obj in objs:\n",
    "        pbar.set_postfix_str(obj.key)\n",
    "        \n",
    "        filename = key_to_filename(obj.key)\n",
    "        if filename.endswith(\".pdf\"):\n",
    "                    tmp_file_path = repo_root / f\"data/{filename}\"\n",
    "                    bucket.download_file(obj.key, tmp_file_path)\n",
    "\n",
    "                    doc = fitz.open(tmp_file_path)\n",
    "                    \n",
    "                    num_pages = len(doc)\n",
    "                    #count digitally born pages\n",
    "                    digital_pages = sum(is_digitally_born(page) for page in doc)\n",
    "\n",
    "                    digital_ratio = digital_pages / num_pages\n",
    "                    if digital_ratio >= 0.8:\n",
    "                        category = \"digital\"\n",
    "                    elif digital_ratio <= 0.2:\n",
    "                        category = \"scanned\"\n",
    "                    else:\n",
    "                        category = \"both\"\n",
    "\n",
    "                    page_data.append({\n",
    "                        \"filename\": filename,\n",
    "                        \"pages\": num_pages,\n",
    "                        \"digital_pages\": digital_pages,\n",
    "                        \"scanned_pages\": num_pages - digital_pages,\n",
    "                        \"category\": category\n",
    "                    })\n",
    "\n",
    "                    os.remove(tmp_file_path)   \n",
    "\n",
    "        \n",
    "        pbar.update(1)\n",
    "        \n",
    "df = pd.DataFrame(page_data)\n",
    "df.to_csv(output_path, index=False)"
   ]
  },
  {
   "cell_type": "code",
   "execution_count": null,
   "metadata": {},
   "outputs": [],
   "source": [
    "#write text of pdf into text files\n",
    "with tqdm(total=len(objs)) as pbar:\n",
    "\n",
    "    for obj in objs:\n",
    "        pbar.set_postfix_str(obj.key)\n",
    "        \n",
    "        filename = key_to_filename(obj.key)\n",
    "        if filename.endswith(\".pdf\"):\n",
    "                    tmp_file_path =  repo_root / f\"data/{filename}\"\n",
    "                    bucket.download_file(obj.key, tmp_file_path)\n",
    "\n",
    "                    doc = fitz.open(tmp_file_path)\n",
    "                    output_path = repo_root / f\"data/{filename}.txt\"\n",
    "                    \n",
    "                    with open(output_path, \"w\", encoding = \"utf-8\") as text_file:\n",
    "                        for _,page in enumerate(doc):\n",
    "                            text= page.get_text()\n",
    "                            text_file.write(text)\n",
    "\n",
    "                    os.remove(tmp_file_path)   \n",
    "\n",
    "        \n",
    "        pbar.update(1)\n"
   ]
  },
  {
   "cell_type": "code",
   "execution_count": null,
   "metadata": {},
   "outputs": [],
   "source": [
    "#download random sample\n",
    "\n",
    "sampled_objs = random.sample(objs, 10)\n",
    "\n",
    "with tqdm(total=len(sampled_objs)) as pbar:\n",
    "    for obj in sampled_objs:\n",
    "        pbar.set_postfix_str(obj.key)\n",
    "        \n",
    "        filename = key_to_filename(obj.key)\n",
    "        if filename.endswith(\".pdf\"):\n",
    "            file_path = repo_root / f\"data/input/reports_no_gt/{filename}\"\n",
    "            bucket.download_file(obj.key, file_path)\n",
    "        \n",
    "        pbar.update(1)"
   ]
  }
 ],
 "metadata": {
  "kernelspec": {
   "display_name": "venv",
   "language": "python",
   "name": "python3"
  },
  "language_info": {
   "codemirror_mode": {
    "name": "ipython",
    "version": 3
   },
   "file_extension": ".py",
   "mimetype": "text/x-python",
   "name": "python",
   "nbconvert_exporter": "python",
   "pygments_lexer": "ipython3",
   "version": "3.10.12"
  }
 },
 "nbformat": 4,
 "nbformat_minor": 2
}
