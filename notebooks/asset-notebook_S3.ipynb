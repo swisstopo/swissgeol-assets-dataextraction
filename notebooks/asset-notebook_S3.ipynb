{
 "cells": [
  {
   "cell_type": "code",
   "execution_count": 1,
   "metadata": {},
   "outputs": [
    {
     "data": {
      "text/plain": [
       "'Notebook to retrieve and save all text for all files on the S3 bucket as .txt files'"
      ]
     },
     "execution_count": 1,
     "metadata": {},
     "output_type": "execute_result"
    }
   ],
   "source": [
    "%load_ext autoreload\n",
    "%autoreload 2\n",
    "\n",
    "import os\n",
    "import fitz\n",
    "import boto3\n",
    "from tqdm import tqdm\n",
    "\n",
    "base_dir = os.getcwd()\n",
    "\n",
    "\"\"\"Notebook to retrieve and save all text for all files on the S3 bucket as .txt files\"\"\""
   ]
  },
  {
   "cell_type": "code",
   "execution_count": 2,
   "metadata": {},
   "outputs": [],
   "source": [
    "s3_input = \"asset/asset_files_new_ocr/\"\n",
    "s3_aws_profile = \"assets\"\n",
    "s3_session = boto3.Session(profile_name=s3_aws_profile)\n",
    "s3 = s3_session.resource('s3')\n",
    "bucket = s3.Bucket('swissgeol-assets-swisstopo')"
   ]
  },
  {
   "cell_type": "code",
   "execution_count": null,
   "metadata": {},
   "outputs": [],
   "source": [
    "objs = list(bucket.objects.filter(Prefix=s3_input))"
   ]
  },
  {
   "cell_type": "code",
   "execution_count": 4,
   "metadata": {},
   "outputs": [],
   "source": [
    "pdf_path = \"data/NAB/Berichte_NAB 10-025_Kurzarbeitsprogram Geothermiebohrung Schlattingen.PDF\"\n",
    "\n",
    "output_dir = \"data/text_files/\"\n",
    "\n",
    "def key_to_filename(key):\n",
    "    return key.split(\"/\")[-1]"
   ]
  },
  {
   "cell_type": "code",
   "execution_count": null,
   "metadata": {},
   "outputs": [],
   "source": [
    "with tqdm(total=len(objs)) as pbar:\n",
    "\n",
    "    for obj in objs:\n",
    "        pbar.set_postfix_str(obj.key)\n",
    "        \n",
    "        filename = key_to_filename(obj.key)\n",
    "        if filename.endswith(\".pdf\"):\n",
    "                    tmp_file_path = os.path.join(\"data\", filename)\n",
    "                    bucket.download_file(obj.key, tmp_file_path)\n",
    "\n",
    "                    doc = fitz.open(tmp_file_path)\n",
    "                    output_path = os.path.join(output_dir, filename + \".txt\")\n",
    "                    \n",
    "                    with open(output_path, \"w\", encoding = \"utf-8\") as text_file:\n",
    "                        for _,page in enumerate(doc):\n",
    "                            text= page.get_text()\n",
    "                            text_file.write(text)\n",
    "\n",
    "                    os.remove(tmp_file_path)   \n",
    "\n",
    "        \n",
    "        pbar.update(1)\n",
    "\n"
   ]
  }
 ],
 "metadata": {
  "kernelspec": {
   "display_name": "venv",
   "language": "python",
   "name": "python3"
  },
  "language_info": {
   "codemirror_mode": {
    "name": "ipython",
    "version": 3
   },
   "file_extension": ".py",
   "mimetype": "text/x-python",
   "name": "python",
   "nbconvert_exporter": "python",
   "pygments_lexer": "ipython3",
   "version": "3.10.12"
  }
 },
 "nbformat": 4,
 "nbformat_minor": 2
}
