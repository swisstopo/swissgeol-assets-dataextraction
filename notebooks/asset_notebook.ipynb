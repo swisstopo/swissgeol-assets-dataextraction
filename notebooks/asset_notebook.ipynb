{
 "cells": [
  {
   "cell_type": "code",
   "execution_count": 1,
   "metadata": {},
   "outputs": [],
   "source": [
    "%load_ext autoreload\n",
    "%autoreload 2\n",
    "\n",
    "import os\n",
    "import fitz\n",
    "import sys\n",
    "import yaml\n",
    "import os\n",
    "\n",
    "repo_root = os.path.abspath(os.path.join(os.getcwd(), \"..\"))\n",
    "if repo_root not in sys.path:\n",
    "    sys.path.append(repo_root)\n",
    "\n",
    "\n",
    "from src.text import create_text_lines\n",
    "from src.detect_language import detect_language_of_page\n",
    "from src.TOCExtractor import TOCExtractor\n"
   ]
  },
  {
   "cell_type": "code",
   "execution_count": 2,
   "metadata": {},
   "outputs": [],
   "source": [
    "pdf_path = os.path.join(repo_root,\"data/NAB/Berichte_NAB 10-025_Kurzarbeitsprogram Geothermiebohrung Schlattingen.PDF\")\n",
    "\n",
    "with open(os.path.join(repo_root, \"matching_params.yml\"), \"r\") as params_file:\n",
    "    matching_params = yaml.safe_load(params_file)"
   ]
  },
  {
   "cell_type": "code",
   "execution_count": 3,
   "metadata": {},
   "outputs": [
    {
     "name": "stdout",
     "output_type": "stream",
     "text": [
      "Header: NAB 10-25 Cover, Page: 1\n",
      "Header: Titelseite innen, Page: 3\n",
      "Header: Copyright, Page: 4\n",
      "Header: Inhaltsverzeichnis, Page: 5\n",
      "Header: Tabellenverzeichnis, Page: 5\n",
      "Header: Figurenverzeichnis, Page: 6\n",
      "Header: 1 Einleitung und Zielsetzung, Page: 7\n",
      "Header: 2 Geologie, Page: 9\n",
      "Header: 2.1 Beschreibung des Untersuchungsgebietes, Page: 9\n",
      "Header: 2.2 Prognose Bohrprofil, Page: 12\n",
      "Header: 3 Bohrarbeiten, Page: 13\n",
      "Header: 3.1 Bohrspülung, Page: 15\n",
      "Header: 4 Vorgesehene Untersuchungen, Page: 17\n",
      "Header: 4.1 Bohrstellen-Geologie, Page: 17\n",
      "Header: 4.2 Bohrloch-Geophysik, Page: 19\n",
      "Header: 4.3 Hydrogeologie und Hydrochemie, Page: 22\n",
      "Header: 4.4 Geotechnik und Felsmechanik, Page: 25\n",
      "Header: 5 Bohrplatz, Page: 29\n",
      "Header: 6 Projektorganisation, Page: 31\n",
      "Header: 7 Referenzen, Page: 33\n",
      "TOC(entries=[{'header': 'NAB 10-25 Cover', 'page': 1}, {'header': 'Titelseite innen', 'page': 3}, {'header': 'Copyright', 'page': 4}, {'header': 'Inhaltsverzeichnis', 'page': 5}, {'header': 'Tabellenverzeichnis', 'page': 5}, {'header': 'Figurenverzeichnis', 'page': 6}, {'header': '1 Einleitung und Zielsetzung', 'page': 7}, {'header': '2 Geologie', 'page': 9}, {'header': '2.1 Beschreibung des Untersuchungsgebietes', 'page': 9}, {'header': '2.2 Prognose Bohrprofil', 'page': 12}, {'header': '3 Bohrarbeiten', 'page': 13}, {'header': '3.1 Bohrspülung', 'page': 15}, {'header': '4 Vorgesehene Untersuchungen', 'page': 17}, {'header': '4.1 Bohrstellen-Geologie', 'page': 17}, {'header': '4.2 Bohrloch-Geophysik', 'page': 19}, {'header': '4.3 Hydrogeologie und Hydrochemie', 'page': 22}, {'header': '4.4 Geotechnik und Felsmechanik', 'page': 25}, {'header': '5 Bohrplatz', 'page': 29}, {'header': '6 Projektorganisation', 'page': 31}, {'header': '7 Referenzen', 'page': 33}])\n"
     ]
    }
   ],
   "source": [
    "with fitz.open(pdf_path) as doc:\n",
    "\n",
    "    text_lines=[]\n",
    "\n",
    "    for page_number, page in enumerate(doc, start = 1):\n",
    "        language = detect_language_of_page(page)\n",
    "\n",
    "        text_lines.extend(create_text_lines(page, page_number))\n",
    "    extractor = TOCExtractor(matching_params)\n",
    "\n",
    "    # Extract the TOC\n",
    "    table_of_content = extractor.extract_toc(doc,text_lines, language)\n",
    "\n",
    "    # Output results\n",
    "    if table_of_content:\n",
    "        for entry in table_of_content.entries:\n",
    "            print(f\"Header: {entry['header']}, Page: {entry['page']}\")\n",
    "    else:\n",
    "        print(\"No TOC found.\")\n",
    "    \n",
    "    print(table_of_content)"
   ]
  }
 ],
 "metadata": {
  "kernelspec": {
   "display_name": "venv",
   "language": "python",
   "name": "python3"
  },
  "language_info": {
   "codemirror_mode": {
    "name": "ipython",
    "version": 3
   },
   "file_extension": ".py",
   "mimetype": "text/x-python",
   "name": "python",
   "nbconvert_exporter": "python",
   "pygments_lexer": "ipython3",
   "version": "3.10.12"
  }
 },
 "nbformat": 4,
 "nbformat_minor": 2
}
