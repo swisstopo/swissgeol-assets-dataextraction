{
 "cells": [
  {
   "cell_type": "code",
   "execution_count": 1,
   "metadata": {},
   "outputs": [],
   "source": [
    "%load_ext autoreload\n",
    "%autoreload 2\n",
    "\n",
    "import pymupdf\n",
    "import cv2\n",
    "from pathlib import Path\n",
    "import sys\n",
    "import numpy as np\n",
    "import matplotlib.pyplot as plt\n",
    "from math import degrees, atan2,sqrt\n",
    "from dataclasses import dataclass\n",
    "\n",
    "from skimage import io as io\n",
    "from skimage.morphology import skeletonize\n",
    "from skimage.color import rgb2gray\n",
    "from skimage.filters import gaussian,threshold_otsu\n",
    "from skimage.measure import find_contours,approximate_polygon,label\n",
    "from skimage.transform import probabilistic_hough_line\n",
    "\n",
    "base_dir = Path.cwd().parent.resolve()\n",
    "sys.path.append(str(base_dir))\n",
    "\n",
    "from src.line_detection import turn_page_to_image, extract_geometric_lines\n",
    "from src.text_objects import create_text_lines\n",
    "from src.geometric_objects import Line, Point"
   ]
  },
  {
   "cell_type": "code",
   "execution_count": 2,
   "metadata": {},
   "outputs": [],
   "source": [
    "@dataclass\n",
    "class ConnectedLine:\n",
    "    points: list[Point]\n",
    "\n",
    "    def __post_init__(self):\n",
    "        if len(self.points) >= 2:\n",
    "            self.start = self.points[0]\n",
    "            self.end = self.points[-1]\n",
    "        else:\n",
    "            self.start = self.end = None\n",
    "\n",
    "    @property\n",
    "    def naive_length(self):\n",
    "        if len(self.points) < 2:\n",
    "            return 0.0\n",
    "\n",
    "        length = 0.0\n",
    "        for i in range(1, len(self.points)):\n",
    "            length += self.points[i].distance_to(self.points[i - 1])\n",
    "        return length\n",
    "    \n",
    "def calc_angle(point1, point2) -> float:\n",
    "    dx = point2.x - point1.x\n",
    "    dy = point2.y - point1.y\n",
    "    return degrees(atan2(dy, dx)) % 180\n",
    "\n",
    "def connect_lines_by_nearest_angle(\n",
    "    lines: list[Line],\n",
    "    max_neighbors: int = 5,\n",
    "    max_dist: float = 100,\n",
    "    angle_thresh: float = 35\n",
    ") -> list[ConnectedLine]:\n",
    "    from scipy.spatial import cKDTree\n",
    "\n",
    "    # map all points to its parent line -> to build KDtree\n",
    "    point_to_line = {}\n",
    "    all_points = []\n",
    "    for line in lines:\n",
    "        for pt in [line.start, line.end]:\n",
    "            point_to_line[pt.tuple] = (line,pt)\n",
    "            all_points.append(pt.tuple)\n",
    "\n",
    "    #build tree and initiliaize visited line set + end list\n",
    "    tree = cKDTree(all_points)\n",
    "    visited_lines = set()\n",
    "    connected_lines = []\n",
    "\n",
    "    # if line was already used skip them\n",
    "    for line in lines:\n",
    "        if line in visited_lines:\n",
    "            continue\n",
    "        \n",
    "        ##initalize connected line ( add to used lines + set point we will start from and its angle it comes from)\n",
    "        visited_lines.add(line)\n",
    "        path = [line.start, line.end]\n",
    "        current_angle = line.line_angle\n",
    "        current_point = line.end\n",
    "\n",
    "        while True:\n",
    "            ##search colsest points\n",
    "            dists, idxs = tree.query(current_point.tuple, k=max_neighbors, distance_upper_bound=max_dist)\n",
    "\n",
    "            found_match = False\n",
    "            for i in range(len(idxs)):\n",
    "                if np.isinf(dists[i]):\n",
    "                    break  # No more valid neighbors within max_dist\n",
    "\n",
    "                neighbor_tuple = all_points[idxs[i]]\n",
    "                neighbor_line, matched_point = point_to_line[neighbor_tuple]\n",
    "                if neighbor_line in visited_lines:\n",
    "                    continue #skip if already used\n",
    "\n",
    "                # Determine the angle from current_point to the *other* end of neighbor_line\n",
    "                extension_point = neighbor_line.end if matched_point == neighbor_line.start else neighbor_line.start\n",
    "\n",
    "                # Angle of potential new segment\n",
    "                angle = calc_angle(current_point,matched_point)\n",
    "                angle_diff = abs(angle - current_angle)\n",
    "                angle_diff = min(angle_diff, 180 - angle_diff)\n",
    "\n",
    "                if angle_diff <= angle_thresh:\n",
    "                    path.append(matched_point)\n",
    "                    path.append(extension_point)\n",
    "                    current_point = extension_point\n",
    "                    current_angle = calc_angle(matched_point,current_point)\n",
    "\n",
    "                    visited_lines.add(neighbor_line)\n",
    "                    found_match = True\n",
    "                    break  # Found a valid extension, continue from here\n",
    "\n",
    "            if not found_match:\n",
    "                break  # No further extension possible\n",
    "\n",
    "        connected_lines.append(ConnectedLine(points=path))\n",
    "\n",
    "    return connected_lines"
   ]
  },
  {
   "cell_type": "code",
   "execution_count": 3,
   "metadata": {},
   "outputs": [],
   "source": [
    "pdf_path = Path( base_dir /\"data/input/single_pages/maps/45004_28.pdf\" )\n",
    "# pdf_path = Path( base_dir /\"data/input/single_pages/boreprofile/29192_250.pdf\" )\n",
    "# pdf_path = Path( base_dir /\"data/input/single_pages/text/1801_9.pdf\" )\n",
    "# pdf_path = Path( base_dir /\"data/input/single_pages/unknown/1432_8.pdf\" )\n",
    "\n",
    "\n",
    "doc = pymupdf.open(pdf_path)\n",
    "page = doc[0]\n",
    "page_number= 1"
   ]
  },
  {
   "cell_type": "code",
   "execution_count": 4,
   "metadata": {},
   "outputs": [
    {
     "data": {
      "text/plain": [
       "True"
      ]
     },
     "execution_count": 4,
     "metadata": {},
     "output_type": "execute_result"
    }
   ],
   "source": [
    "image = turn_page_to_image(page)\n",
    "\n",
    "edges, lines = extract_geometric_lines(page)\n",
    "text_lines = create_text_lines(page, page_number)\n",
    "text_font_size = np.mean([line.font_size for line in text_lines])\n",
    "\n",
    "longer_lines = [line for line in lines if line.length > text_font_size* sqrt(2)]\n",
    "\n",
    "line_image= np.zeros_like(image)\n",
    "for lin in longer_lines:\n",
    "    cv2.line(line_image, (int(lin.start.x), int(lin.start.y)),\n",
    "                         (int(lin.end.x), int(lin.end.y)),\n",
    "                         (225, 225, 225), 2)\n",
    "\n",
    "# Save the image with LSD lines\n",
    "cv2.imwrite(Path(base_dir/\"data/lines_LSD.png\"), line_image)"
   ]
  },
  {
   "cell_type": "code",
   "execution_count": null,
   "metadata": {},
   "outputs": [
    {
     "data": {
      "text/plain": [
       "True"
      ]
     },
     "execution_count": 5,
     "metadata": {},
     "output_type": "execute_result"
    }
   ],
   "source": [
    "lines_HL = probabilistic_hough_line(edges, threshold=10, line_length=5, line_gap=3)\n",
    "for line in lines_HL:\n",
    "    p0, p1 = line  # each line is a tuple of two points\n",
    "    cv2.line(line_image, p0, p1, (225, 225, 225), 2)\n",
    "\n",
    "\n",
    "# Save the image with lines and processed images\n",
    "cv2.imwrite(Path(base_dir/\"data/lines_HL.png\"), line_image)\n",
    "image = turn_page_to_image(page)\n",
    "gray = cv2.cvtColor(image, cv2.COLOR_BGR2GRAY)\n",
    "blurred = cv2.GaussianBlur(gray, (5, 5), sigmaX=1.2)\n",
    "cv2.imwrite(Path(base_dir/\"data/image.png\"), image)\n",
    "\n",
    "cv2.imwrite(Path(base_dir/\"data/gray.png\"), gray)\n",
    "cv2.imwrite(Path(base_dir/\"data/blurred.png\"), blurred)\n",
    "cv2.imwrite(Path(base_dir/\"data/edges.png\"), edges)\n",
    "\n",
    "\n"
   ]
  },
  {
   "cell_type": "code",
   "execution_count": 6,
   "metadata": {},
   "outputs": [],
   "source": [
    "connected_lines = connect_lines_by_nearest_angle(lines)\n",
    "longer_connected_lines = [line for line in connected_lines if line.naive_length >   4*text_font_size* sqrt(2)]"
   ]
  },
  {
   "cell_type": "code",
   "execution_count": 7,
   "metadata": {},
   "outputs": [
    {
     "data": {
      "text/plain": [
       "True"
      ]
     },
     "execution_count": 7,
     "metadata": {},
     "output_type": "execute_result"
    }
   ],
   "source": [
    "rng = np.random.default_rng(seed=42)\n",
    "canvas = np.zeros_like(image)\n",
    "for cl in longer_connected_lines:\n",
    "    if len(cl.points) >= 2:\n",
    "        color = tuple(rng.integers(50, 255, size=3).tolist())\n",
    "        for i in range(len(cl.points) - 1):\n",
    "            pt1 = tuple(map(int, cl.points[i].tuple))\n",
    "            pt2 = tuple(map(int, cl.points[i + 1].tuple))\n",
    "            cv2.line(canvas, pt1, pt2, color, 2)\n",
    "cv2.imwrite(Path(base_dir/\"data/visualized_mask.png\"), canvas)\n"
   ]
  },
  {
   "cell_type": "code",
   "execution_count": null,
   "metadata": {},
   "outputs": [
    {
     "name": "stdout",
     "output_type": "stream",
     "text": [
      "1059 shapes were found\n"
     ]
    }
   ],
   "source": [
    "gray_image = rgb2gray(image)\n",
    "#Denoise the image\n",
    "filtered_mask = np.zeros_like(gray_image)\n",
    "\n",
    "denoised_image = gaussian(gray_image, sigma=2)\n",
    "thresh = threshold_otsu(denoised_image)\n",
    "binary_image = denoised_image < thresh\n",
    "\n",
    "binary = np.zeros(shape=binary_image.shape)\n",
    "binary[binary_image] = 1\n",
    "\n",
    "contours = find_contours(binary, level=0.2)\n",
    "for contour in contours:\n",
    "    plt.plot(contour[:,1], contour[:,0], linewidth=0.5)\n",
    "plt.imshow(filtered_mask, cmap='gray')\n",
    "plt.axis('off')\n",
    "plt.title('Grayscale Image with Detected Contours')\n",
    "labs, count = label(binary, return_num=True)\n",
    "print('{} shapes were found'.format(count))\n",
    "plt.savefig(Path(base_dir) / \"data\" / \"contours.png\", bbox_inches='tight', dpi=300)\n",
    "\n",
    "plt.close()"
   ]
  },
  {
   "cell_type": "code",
   "execution_count": null,
   "metadata": {},
   "outputs": [],
   "source": [
    "##approximated polygons\n",
    "for contour in contours:\n",
    "    if contour.ndim == 3 and contour.shape[1] == 1:\n",
    "        contour = contour[:, 0]\n",
    "\n",
    "    if contour.ndim == 2 and contour.shape[1] == 2:\n",
    "        coords = approximate_polygon(contour, tolerance=2.5)\n",
    "        plt.plot(coords[:, 0], coords[:, 1], '-r')\n",
    "    else:\n",
    "        print(f\" invalid contour with shape: {contour.shape}\")\n",
    "plt.savefig(Path(base_dir) / \"data\" / \"polygon.png\", bbox_inches='tight', dpi=300)"
   ]
  },
  {
   "cell_type": "code",
   "execution_count": 9,
   "metadata": {},
   "outputs": [
    {
     "data": {
      "text/plain": [
       "True"
      ]
     },
     "execution_count": 9,
     "metadata": {},
     "output_type": "execute_result"
    }
   ],
   "source": [
    "### morphological cleaning\n",
    "# Convert to grayscale\n",
    "gray = cv2.cvtColor(image, cv2.COLOR_BGR2GRAY)\n",
    "\n",
    "# Denoise\n",
    "blurred = cv2.GaussianBlur(gray, (5, 5), sigmaX=1.2)\n",
    "\n",
    "# Adaptive thresholding to enhance lines\n",
    "thresh = cv2.adaptiveThreshold(\n",
    "    blurred, 255,\n",
    "    cv2.ADAPTIVE_THRESH_MEAN_C,\n",
    "    cv2.THRESH_BINARY_INV,\n",
    "    blockSize=15,\n",
    "    C=10\n",
    ")\n",
    "\n",
    "# Morphological cleanup\n",
    "kernel = cv2.getStructuringElement(cv2.MORPH_RECT, (3, 3))\n",
    "cleaned = cv2.morphologyEx(thresh, cv2.MORPH_OPEN, kernel, iterations=1)\n",
    "cv2.imwrite(Path(base_dir/\"data/cleaned.png\"), cleaned)"
   ]
  },
  {
   "cell_type": "code",
   "execution_count": 10,
   "metadata": {},
   "outputs": [
    {
     "data": {
      "text/plain": [
       "True"
      ]
     },
     "execution_count": 10,
     "metadata": {},
     "output_type": "execute_result"
    }
   ],
   "source": [
    "###Morphological extraction\n",
    "\n",
    "closed = cv2.morphologyEx(edges, cv2.MORPH_CLOSE, kernel)\n",
    "\n",
    "# Step 4: Skeletonize the result to 1-pixel width lines\n",
    "skeleton = skeletonize(closed > 0).astype(np.uint8) * 255\n",
    "\n",
    "# Step 5: Optional - filter out short contours\n",
    "contours, _ = cv2.findContours(skeleton, cv2.RETR_EXTERNAL, cv2.CHAIN_APPROX_NONE)\n",
    "\n",
    "# Create blank canvas to draw filtered contours\n",
    "filtered_mask = np.zeros_like(skeleton)\n",
    "\n",
    "for cnt in contours:\n",
    "    length = cv2.arcLength(cnt, False)\n",
    "    # if length > 50:\n",
    "    cv2.drawContours(filtered_mask, [cnt], -1, 255, thickness=1)\n",
    "\n",
    "# Save the final filtered contour line map\n",
    "cv2.imwrite(Path(base_dir/\"data/contour_line_mask_grayscale.png\"), filtered_mask)"
   ]
  }
 ],
 "metadata": {
  "kernelspec": {
   "display_name": "venv",
   "language": "python",
   "name": "python3"
  },
  "language_info": {
   "codemirror_mode": {
    "name": "ipython",
    "version": 3
   },
   "file_extension": ".py",
   "mimetype": "text/x-python",
   "name": "python",
   "nbconvert_exporter": "python",
   "pygments_lexer": "ipython3",
   "version": "3.10.12"
  }
 },
 "nbformat": 4,
 "nbformat_minor": 2
}
