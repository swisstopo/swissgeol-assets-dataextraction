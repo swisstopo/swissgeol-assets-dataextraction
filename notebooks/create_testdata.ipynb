{
 "cells": [
  {
   "cell_type": "code",
   "execution_count": 45,
   "metadata": {},
   "outputs": [
    {
     "name": "stdout",
     "output_type": "stream",
     "text": [
      "saved to /home/lillemor/Documents/lgd-utils/asset-data-extraction/data/input/title_page/44179_1.pdf\n"
     ]
    }
   ],
   "source": [
    "\"\"\"\n",
    "This notebook is used to create input pages for `classify_scanned_page.ipynb` from original reports.\n",
    "\n",
    "Instructions:\n",
    "\n",
    "Place the original reports (PDFs) in `data/input/`  \n",
    "   - The folder should contain PDF files from which pages will be extracted.\n",
    "\n",
    "Specify the following parameters:  \n",
    "   - filename: Name of the PDF file to extract pages from.  \n",
    "   - wanted_page`: The page number to extract.  \n",
    "   - out_dir`: The target directory where the extracted page will be stored.\n",
    "\n",
    "Set out_dir to one of the following categories:  \n",
    "   - \"boreprofile\"  \n",
    "   - \"maps\" \n",
    "   - \"text\" \n",
    "   - \"title_page\"  \n",
    "\n",
    "The extracted pages are used as **training data** for classification.\n",
    "\"\"\"\n",
    "\n",
    "import os\n",
    "import pymupdf\n",
    "from PIL import Image\n",
    "import sys\n",
    "\n",
    "repo_root = os.path.abspath(os.path.join(os.getcwd(), \"..\"))\n",
    "sys.path.append(os.path.join(repo_root, \"src\"))\n",
    "\n",
    "\n",
    "filename = \"44179.pdf\"\n",
    "wanted_pages = range(1,2)\n",
    "out_category = \"title_page\"\n",
    "\n",
    "pdf_path = os.path.join(repo_root, \"data/input/long_reports\", filename)\n",
    "out_dir = os.path.join(repo_root, f\"data/input/{out_category}\")\n",
    "os.makedirs(out_dir, exist_ok=True)\n",
    "\n",
    "with pymupdf.open(pdf_path) as doc:\n",
    "   for page_index,page in enumerate(doc):\n",
    "         page_number = page_index +1\n",
    "      \n",
    "         if page_number in wanted_pages:\n",
    "               out_path= os.path.join(out_dir,f\"{ os.path.splitext(filename)[0]}_{page_number}.pdf\")\n",
    "\n",
    "               new_doc = pymupdf.open()\n",
    "\n",
    "               new_doc.insert_pdf(doc, from_page=page_index, to_page=page_index)\n",
    "               new_doc.save(out_path)\n",
    "               new_doc.close()\n",
    "               print(f\"saved to {out_path}\")"
   ]
  }
 ],
 "metadata": {
  "kernelspec": {
   "display_name": "Python (venv)",
   "language": "python",
   "name": "venv"
  },
  "language_info": {
   "codemirror_mode": {
    "name": "ipython",
    "version": 3
   },
   "file_extension": ".py",
   "mimetype": "text/x-python",
   "name": "python",
   "nbconvert_exporter": "python",
   "pygments_lexer": "ipython3",
   "version": "3.10.12"
  }
 },
 "nbformat": 4,
 "nbformat_minor": 2
}
