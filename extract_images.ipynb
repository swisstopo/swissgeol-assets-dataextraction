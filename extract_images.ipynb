{
 "cells": [
  {
   "cell_type": "code",
   "execution_count": null,
   "metadata": {},
   "outputs": [
    {
     "name": "stdout",
     "output_type": "stream",
     "text": [
      "The autoreload extension is already loaded. To reload it, use:\n",
      "  %reload_ext autoreload\n"
     ]
    }
   ],
   "source": [
    "%load_ext autoreload\n",
    "%autoreload 2\n",
    "\n",
    "import os\n",
    "import fitz\n",
    "from PIL import Image\n",
    "import io\n",
    "\n",
    "base_dir = os.getcwd()"
   ]
  },
  {
   "cell_type": "code",
   "execution_count": 17,
   "metadata": {},
   "outputs": [],
   "source": [
    "pdf_path = \"data/NAB/Berichte_NAB 10-025_Kurzarbeitsprogram Geothermiebohrung Schlattingen.PDF\"\n",
    "pdf_path= \"data/test/1062.pdf\""
   ]
  },
  {
   "cell_type": "code",
   "execution_count": 16,
   "metadata": {},
   "outputs": [],
   "source": []
  },
  {
   "cell_type": "code",
   "execution_count": 18,
   "metadata": {},
   "outputs": [],
   "source": [
    "##extract images from document\n",
    "\n",
    "with fitz.Document(pdf_path) as doc:\n",
    "    for page_number,page in enumerate(doc):\n",
    "        image_list = page.get_images()\n",
    "        for image_idx, img in enumerate(image_list):\n",
    "            xref = img[0] \n",
    "        # extract image bytes \n",
    "            base_image = doc.extract_image(xref)\n",
    "            image_bytes = base_image[\"image\"]\n",
    "            # get image extension\n",
    "            image_ext = base_image[\"ext\"]\n",
    "            \n",
    "    # Create a PIL Image object from the image bytes\n",
    "            pil_image = Image.open(io.BytesIO(image_bytes))\n",
    "            # Save the image to disk\n",
    "            image_path = os.path.join(base_dir, \"data/test\",f\"image_{page_number}_{image_idx}.{image_ext}\")\n",
    "            pil_image.save(image_path)\n"
   ]
  }
 ],
 "metadata": {
  "kernelspec": {
   "display_name": "venv",
   "language": "python",
   "name": "python3"
  },
  "language_info": {
   "codemirror_mode": {
    "name": "ipython",
    "version": 3
   },
   "file_extension": ".py",
   "mimetype": "text/x-python",
   "name": "python",
   "nbconvert_exporter": "python",
   "pygments_lexer": "ipython3",
   "version": "3.10.12"
  }
 },
 "nbformat": 4,
 "nbformat_minor": 2
}
