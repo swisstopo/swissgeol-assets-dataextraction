{
 "cells": [
  {
   "cell_type": "code",
   "execution_count": 14,
   "metadata": {},
   "outputs": [
    {
     "name": "stdout",
     "output_type": "stream",
     "text": [
      "The autoreload extension is already loaded. To reload it, use:\n",
      "  %reload_ext autoreload\n"
     ]
    }
   ],
   "source": [
    "import os\n",
    "import fitz\n",
    "from PIL import Image\n",
    "import io\n",
    "import matplotlib.pyplot as plt\n",
    "\n",
    "base_dir = os.getcwd()"
   ]
  },
  {
   "cell_type": "code",
   "execution_count": 21,
   "metadata": {},
   "outputs": [],
   "source": [
    "pdf_path = \"data/NAB/Berichte_NAB 10-025_Kurzarbeitsprogram Geothermiebohrung Schlattingen.PDF\"\n",
    "#pdf_path= \"data/test/1062.pdf\"\n",
    "out_dir = os.path.join(base_dir, \"data/test2\")\n",
    "pdf_path= \"data/NAB/Berichte_NAB 12-040_Untere Rahmengesteine des Opalinustons  Hydrogeologische Einheiten, Gesteinsparam.PDF\""
   ]
  },
  {
   "cell_type": "code",
   "execution_count": 22,
   "metadata": {},
   "outputs": [],
   "source": [
    "##extract images from document\n",
    "\n",
    "with fitz.Document(pdf_path) as doc:\n",
    "    for page_number,page in enumerate(doc):\n",
    "        image_list = page.get_images()\n",
    "        drawing_list = page.get_drawings()\n",
    "        for image_idx, img in enumerate(image_list):\n",
    "            xref = img[0] \n",
    "        # extract image bytes \n",
    "            base_image = doc.extract_image(xref)\n",
    "            image_bytes = base_image[\"image\"]\n",
    "            # get image extension\n",
    "            image_ext = base_image[\"ext\"]\n",
    "            \n",
    "    # Create a PIL Image object from the image bytes\n",
    "            pil_image = Image.open(io.BytesIO(image_bytes))\n",
    "            # Save the image to disk\n",
    "            image_path = os.path.join(base_dir, \"data/test2\",f\"image_{page_number}_{image_idx}.{image_ext}\")\n",
    "            pil_image.save(image_path)\n",
    "\n",
    "\n"
   ]
  },
  {
   "cell_type": "code",
   "execution_count": 23,
   "metadata": {},
   "outputs": [],
   "source": [
    "##extract drawings from document\n",
    "\n",
    "with fitz.open(pdf_path) as doc:\n",
    "    for page_number,page in enumerate(doc):\n",
    "        drawings = page.get_drawings()\n",
    "        if drawings:\n",
    "            out_doc = fitz.open()\n",
    "            outpage = out_doc.new_page(width=page.rect.width, height=page.rect.height)\n",
    "            shape = outpage.new_shape() \n",
    "            for draw_idx,drawing in enumerate(drawings):\n",
    "                for item in drawing[\"items\"]:  # these are the draw commands\n",
    "                    if item[0] == \"l\":  # line\n",
    "                        shape.draw_line(item[1], item[2])\n",
    "                    elif item[0] == \"re\":  # rectangle\n",
    "                        shape.draw_rect(item[1])\n",
    "                    elif item[0] == \"qu\":  # quad\n",
    "                        shape.draw_quad(item[1])\n",
    "                    elif item[0] == \"c\":  # curve\n",
    "                        shape.draw_bezier(item[1], item[2], item[3], item[4])\n",
    "                    else:\n",
    "                        raise ValueError(\"unhandled drawing\", item)\n",
    "                shape.finish(\n",
    "                    fill=drawing.get(\"fill\", None),  # Fill color\n",
    "                    color=drawing.get(\"color\", None),  # Line color\n",
    "                    dashes=drawing.get(\"dashes\", None),  # Line dashing\n",
    "                )\n",
    "            shape.commit()\n",
    "            out_drawing= os.path.join(base_dir, \"data/test2\", f\"drawing_page_{page_number}.pdf\")\n",
    "            out_doc.save(out_drawing)\n",
    "\n"
   ]
  }
 ],
 "metadata": {
  "kernelspec": {
   "display_name": "venv",
   "language": "python",
   "name": "python3"
  },
  "language_info": {
   "codemirror_mode": {
    "name": "ipython",
    "version": 3
   },
   "file_extension": ".py",
   "mimetype": "text/x-python",
   "name": "python",
   "nbconvert_exporter": "python",
   "pygments_lexer": "ipython3",
   "version": "3.10.12"
  }
 },
 "nbformat": 4,
 "nbformat_minor": 2
}
