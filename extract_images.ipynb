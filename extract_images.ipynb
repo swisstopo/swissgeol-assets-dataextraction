{
 "cells": [
  {
   "cell_type": "code",
   "execution_count": 1,
   "metadata": {},
   "outputs": [],
   "source": [
    "import os\n",
    "import pymupdf\n",
    "from PIL import Image\n",
    "import io\n",
    "\n",
    "\n",
    "from text import  create_text_lines, create_text_blocks\n",
    "from bounding_box import cluster_drawings"
   ]
  },
  {
   "cell_type": "code",
   "execution_count": 2,
   "metadata": {},
   "outputs": [],
   "source": [
    "base_dir = os.getcwd()\n",
    "filename =\"Berichte_NAB 10-025_Kurzarbeitsprogram Geothermiebohrung Schlattingen.PDF\"\n",
    "filename = \"1062_6.pdf\"\n",
    "pdf_path = os.path.join(base_dir, \"data/input/text\", filename)"
   ]
  },
  {
   "cell_type": "code",
   "execution_count": 3,
   "metadata": {},
   "outputs": [],
   "source": [
    "out_dir = os.path.join(base_dir, \"data/test\", os.path.splitext(filename)[0])\n",
    "os.makedirs(out_dir, exist_ok=True)"
   ]
  },
  {
   "cell_type": "code",
   "execution_count": 4,
   "metadata": {},
   "outputs": [
    {
     "name": "stdout",
     "output_type": "stream",
     "text": [
      "Images and drawings extracted to: /home/lillemor/Documents/lgd-utils/asset-data-extraction/data/test/1062_6\n"
     ]
    }
   ],
   "source": [
    "##extract images and drawings from document\n",
    "\n",
    "with pymupdf.Document(pdf_path) as doc:\n",
    "    for page_index,page in enumerate(doc):\n",
    "        page_number = page_index + 1\n",
    "        #extract images\n",
    "        image_list = page.get_images()        \n",
    "        for image_idx, img in enumerate(image_list):\n",
    "            xref = img[0] \n",
    "        # extract image bytes \n",
    "            base_image = doc.extract_image(xref)\n",
    "            image_bytes = base_image[\"image\"]\n",
    "            # get image extension\n",
    "            image_ext = base_image[\"ext\"]\n",
    "            \n",
    "            pil_image = Image.open(io.BytesIO(image_bytes))\n",
    "            # Save the image to disk\n",
    "            image_path = os.path.join(out_dir,f\"image_{page_number}_{image_idx}.{image_ext}\")\n",
    "            pil_image.save(image_path)\n",
    "\n",
    "        #extract drawings\n",
    "        drawings = page.get_drawings()\n",
    "        rotation = page.rotation\n",
    "        if drawings:\n",
    "            out_doc = pymupdf.open()\n",
    "            outpage = out_doc.new_page(width=page.mediabox_size.x, height=page.mediabox_size.y)\n",
    "            shape = outpage.new_shape() \n",
    "            for draw_idx,drawing in enumerate(drawings):\n",
    "        \n",
    "                for item in drawing[\"items\"]:  # these are the draw commands\n",
    "                    if item[0] == \"l\":  # line\n",
    "                        shape.draw_line(item[1], item[2])\n",
    "                    elif item[0] == \"re\":  # rectangle\n",
    "                        shape.draw_rect(item[1])\n",
    "                    elif item[0] == \"qu\":  # quad\n",
    "                        shape.draw_quad(item[1])\n",
    "                    elif item[0] == \"c\":  # curve\n",
    "                        shape.draw_bezier(item[1], item[2], item[3], item[4])\n",
    "                    else:\n",
    "                        raise ValueError(\"unhandled drawing\", item)\n",
    "                        \n",
    "                shape.finish(\n",
    "                    fill=drawing.get(\"fill\", None),  # Fill color\n",
    "                    color=drawing.get(\"color\", None),  # Line color\n",
    "                    dashes=drawing.get(\"dashes\", None),  # Line dashing\n",
    "                )\n",
    "            shape.commit()\n",
    "            outpage.set_rotation(rotation)\n",
    "            out_drawing= os.path.join(out_dir,f\"drawing_page_{page_number}.pdf\")\n",
    "            out_doc.save(out_drawing)\n",
    "print(f\"Images and drawings extracted to: {out_dir}\")\n",
    "\n",
    "\n"
   ]
  },
  {
   "cell_type": "code",
   "execution_count": 5,
   "metadata": {},
   "outputs": [],
   "source": [
    "\n",
    "##draw bounding boxes of text and drawings and texblocks\n",
    "with pymupdf.open(pdf_path) as doc:\n",
    "    for page_index,page in enumerate(doc):\n",
    "        page_number = page_index +1\n",
    "        matrix = page.derotation_matrix\n",
    "\n",
    "        lines_per_page= create_text_lines(page,page_number)\n",
    "        reading_blocks = create_text_blocks(lines_per_page)\n",
    "        shape = page.new_shape()\n",
    "\n",
    "        for block in reading_blocks:\n",
    "            padded_block = pymupdf.Rect(block.rect.x0 - 3, block.rect.y0 - 3, block.rect.x1 + 3, block.rect.y1 + 3)\n",
    "            if page.rotation != 0:\n",
    "                oriented_block = padded_block*matrix\n",
    "                shape.draw_rect(oriented_block)\n",
    "            else:\n",
    "                shape.draw_rect(padded_block)\n",
    "        \n",
    "        shape.finish(color=(0, 0, 1), width=1)\n",
    "        \n",
    "        for text_line in lines_per_page:\n",
    "            if page.rotation!= 0:\n",
    "                oriented_bbox = text_line.rect*matrix\n",
    "                shape.draw_rect(oriented_bbox)\n",
    "            else:\n",
    "                shape.draw_rect(text_line.rect)\n",
    "        shape.finish(color=(1, 0, 0), width=1)\n",
    "        \n",
    "\n",
    "        drawings = page.get_drawings()\n",
    "        if drawings:\n",
    "            clustered_boxes = cluster_drawings(drawings)\n",
    "            print(f\"Page number:{page_number}, drawings with length {len(drawings)}, clustered {len(clustered_boxes)}\")\n",
    "\n",
    "            for cluster in clustered_boxes:\n",
    "                shape.draw_rect(cluster)\n",
    "            shape.finish(color =(148/255, 0, 211/255),width = 1)\n",
    "        shape.commit()\n",
    "\n",
    "    doc.save(os.path.join(out_dir, filename))    "
   ]
  }
 ],
 "metadata": {
  "kernelspec": {
   "display_name": "venv",
   "language": "python",
   "name": "python3"
  },
  "language_info": {
   "codemirror_mode": {
    "name": "ipython",
    "version": 3
   },
   "file_extension": ".py",
   "mimetype": "text/x-python",
   "name": "python",
   "nbconvert_exporter": "python",
   "pygments_lexer": "ipython3",
   "version": "3.10.12"
  }
 },
 "nbformat": 4,
 "nbformat_minor": 2
}
