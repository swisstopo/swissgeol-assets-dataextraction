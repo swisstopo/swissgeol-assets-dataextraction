{
 "cells": [
  {
   "cell_type": "code",
   "execution_count": 1,
   "metadata": {},
   "outputs": [],
   "source": [
    "import numpy as np\n",
    "import cv2\n",
    "import os\n",
    "import matplotlib.pyplot as plt\n",
    "\n",
    "base_dir = os.getcwd() \n",
    "#try hough lines?"
   ]
  },
  {
   "cell_type": "code",
   "execution_count": null,
   "metadata": {},
   "outputs": [],
   "source": [
    "img = cv2.imread(os.path.join(base_dir,\"data/test\", \"image_11_0.jpeg\"))\n",
    "(h,w)=img.shape[:2]\n",
    "aspect_ratio = h / w\n",
    "img = cv2.resize(img, (w,h), fx= 0.75, fy= 0.75)\n",
    "\n",
    "## feature detection on grayscale\n",
    "gray_img = cv2.cvtColor(img, cv2.COLOR_BGR2GRAY)\n",
    "\n",
    "##corner detactor\n",
    "corners = cv2.goodFeaturesToTrack(gray_img,100,0.01,10) #img, n of best corners to return, min quality of corner [0-1],min ed btw cornerers allowed\n",
    "croners= np.int32(corners) #floating points to integers\n",
    "for corner in corners:\n",
    "    x,y= corner.ravel() #flatten\n",
    "    cv2.circle(img,(int(x),int(y)),5,(255,0,0),-1)#img, coordinate, size, color, fill\n",
    "\n",
    "cv2.imshow(\"img\",img) \n",
    "\n",
    "cv2.waitKey(6000)\n",
    "cv2.destroyAllWindows()\n",
    "plt.imshow(img)\n",
    "plt.show()"
   ]
  }
 ],
 "metadata": {
  "kernelspec": {
   "display_name": "venv",
   "language": "python",
   "name": "python3"
  },
  "language_info": {
   "codemirror_mode": {
    "name": "ipython",
    "version": 3
   },
   "file_extension": ".py",
   "mimetype": "text/x-python",
   "name": "python",
   "nbconvert_exporter": "python",
   "pygments_lexer": "ipython3",
   "version": "3.10.12"
  }
 },
 "nbformat": 4,
 "nbformat_minor": 2
}
