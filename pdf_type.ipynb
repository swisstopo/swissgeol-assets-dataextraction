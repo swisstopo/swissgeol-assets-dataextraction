{
 "cells": [
  {
   "cell_type": "code",
   "execution_count": 1,
   "metadata": {},
   "outputs": [],
   "source": [
    "import fitz \n",
    "import os\n",
    "base_dir = os.getcwd()"
   ]
  },
  {
   "cell_type": "code",
   "execution_count": 2,
   "metadata": {},
   "outputs": [],
   "source": [
    "def page_type(page):\n",
    "    page_area = abs(page.rect)  # Total page area\n",
    "\n",
    "    # Extract image bounding boxes\n",
    "    img_area = 0.0\n",
    "    images_info = {d[\"xref\"]: d for d in page.get_image_info(xrefs=True)}\n",
    "    \n",
    "    for xref, img in images_info.items():\n",
    "        image_bbox = fitz.Rect(*img[\"bbox\"])\n",
    "        img_area += abs(image_bbox)\n",
    "    \n",
    "    img_perc = img_area / page_area if page_area > 0 else 0\n",
    "    print(\"Image area proportion:\", img_perc)\n",
    "\n",
    "    # Extract text bounding boxes\n",
    "    text_area = 0.0\n",
    "    for block in page.get_text(\"dict\")[\"blocks\"]:\n",
    "        if block[\"type\"] == 0:  # Text block\n",
    "            bbox = fitz.Rect(*block[\"bbox\"])\n",
    "            text_area += abs(bbox)\n",
    "    \n",
    "    text_perc = text_area / page_area if page_area > 0 else 0\n",
    "    print(\"Text area proportion:\", text_perc)\n",
    "\n",
    "    # Determine page type\n",
    "    if text_perc < 0.01:\n",
    "        return \"Scanned\"  # Almost no text\n",
    "    elif img_perc > 0.8:\n",
    "        return \"Searchable text\"  # Large image\n",
    "    else:\n",
    "        return \"Digitally created\"  # Mixed or mostly text\n"
   ]
  },
  {
   "cell_type": "code",
   "execution_count": 19,
   "metadata": {},
   "outputs": [],
   "source": [
    "pdf_path_dig = \"data/NAB/Berichte_NAB 10-025_Kurzarbeitsprogram Geothermiebohrung Schlattingen.PDF\"\n",
    "pdf_path_ocr = \"data/test/1062.pdf\"\n",
    "pdf_path_none = \"/home/lillemor/Documents/ocr/input/3EK5LEG800_bp_19940601_Arsch93-18.pdf\""
   ]
  },
  {
   "cell_type": "code",
   "execution_count": 20,
   "metadata": {},
   "outputs": [
    {
     "name": "stdout",
     "output_type": "stream",
     "text": [
      "Image area proportion: 0.9999999267952941\n",
      "Text area proportion: 0.0\n",
      "Scanned\n",
      "Image area proportion: 1.0000000234693325\n",
      "Text area proportion: 0.0\n",
      "Scanned\n",
      "Image area proportion: 1.0000000724951985\n",
      "Text area proportion: 0.07059904612487967\n",
      "Scanned\n"
     ]
    }
   ],
   "source": [
    "\n",
    "with fitz.open(pdf_path_none) as doc:\n",
    "\n",
    "    for page in doc: \n",
    "        print(page_type(page))"
   ]
  }
 ],
 "metadata": {
  "kernelspec": {
   "display_name": "venv",
   "language": "python",
   "name": "python3"
  },
  "language_info": {
   "codemirror_mode": {
    "name": "ipython",
    "version": 3
   },
   "file_extension": ".py",
   "mimetype": "text/x-python",
   "name": "python",
   "nbconvert_exporter": "python",
   "pygments_lexer": "ipython3",
   "version": "3.10.12"
  }
 },
 "nbformat": 4,
 "nbformat_minor": 2
}
