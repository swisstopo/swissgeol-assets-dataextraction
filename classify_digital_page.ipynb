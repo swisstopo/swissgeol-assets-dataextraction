{
 "cells": [
  {
   "cell_type": "code",
   "execution_count": 1,
   "metadata": {},
   "outputs": [],
   "source": [
    "%load_ext autoreload\n",
    "%autoreload 2\n",
    "\n",
    "import os\n",
    "import pymupdf\n",
    "\n",
    "from text import extract_words\n",
    "import json\n",
    "from bounding_box import cluster_drawings\n",
    "from utils import is_digitally_born, classify_wordpos, classify_text_density, process_documents\n"
   ]
  },
  {
   "cell_type": "code",
   "execution_count": 2,
   "metadata": {},
   "outputs": [],
   "source": [
    "base_dir = os.getcwd()\n",
    "filename =\"Berichte_NAB 10-025_Kurzarbeitsprogram Geothermiebohrung Schlattingen.PDF\"\n",
    "\n",
    "pdf_path = os.path.join(base_dir, \"data/NAB\", filename)\n",
    "out_dir = os.path.join(base_dir, \"data/test\", os.path.splitext(filename)[0])\n"
   ]
  },
  {
   "cell_type": "code",
   "execution_count": 3,
   "metadata": {},
   "outputs": [],
   "source": [
    "def classify_digital(page):\n",
    "    if page.get_images():\n",
    "        return \" image\"\n",
    "\n",
    "    drawings = page.get_drawings()\n",
    "    if drawings:\n",
    "        clustered_boxes = cluster_drawings(drawings)\n",
    "\n",
    "        for cluster in clustered_boxes: #filter out small bboxes\n",
    "            if cluster.get_area() > 100000:\n",
    "                return \" drawing\"\n",
    "    return \" text\""
   ]
  },
  {
   "cell_type": "code",
   "execution_count": 4,
   "metadata": {},
   "outputs": [],
   "source": [
    "##classify pdf based on image, drawing and text\n",
    "def classify_pages(doc):\n",
    "    results ={}\n",
    "    for page_index, page in enumerate(doc):\n",
    "        page_number = page_index + 1\n",
    "        page_size = (page.rect.width, page.rect.height)\n",
    "        \n",
    "        digitally_born = is_digitally_born(doc[page_index])\n",
    "\n",
    "        if digitally_born:\n",
    "            page_type = classify_digital(page)\n",
    "        \n",
    "        else:\n",
    "            words = extract_words(page, page_number)\n",
    "            page_type = classify_text_density(words, page_size)\n",
    "        \n",
    "        results[page_number] = { \"page_type\":page_type,\n",
    "                                \"digitally_born\": digitally_born}\n",
    "            \n",
    "    return results\n"
   ]
  },
  {
   "cell_type": "code",
   "execution_count": null,
   "metadata": {},
   "outputs": [
    {
     "name": "stdout",
     "output_type": "stream",
     "text": [
      "{'Berichte_NAB 10-025_Kurzarbeitsprogram Geothermiebohrung Schlattingen.PDF': {1: {'page_type': ' drawing', 'digitally_born': True}, 2: {'page_type': 'No text', 'digitally_born': False}, 3: {'page_type': ' text', 'digitally_born': True}, 4: {'page_type': ' text', 'digitally_born': True}, 5: {'page_type': ' text', 'digitally_born': True}, 6: {'page_type': ' text', 'digitally_born': True}, 7: {'page_type': ' text', 'digitally_born': True}, 8: {'page_type': ' image', 'digitally_born': True}, 9: {'page_type': ' text', 'digitally_born': True}, 10: {'page_type': ' image', 'digitally_born': True}, 11: {'page_type': ' image', 'digitally_born': True}, 12: {'page_type': ' image', 'digitally_born': True}, 13: {'page_type': ' text', 'digitally_born': True}, 14: {'page_type': ' drawing', 'digitally_born': True}, 15: {'page_type': ' text', 'digitally_born': True}, 16: {'page_type': ' text', 'digitally_born': True}, 17: {'page_type': ' text', 'digitally_born': True}, 18: {'page_type': ' text', 'digitally_born': True}, 19: {'page_type': ' text', 'digitally_born': True}, 20: {'page_type': ' text', 'digitally_born': True}, 21: {'page_type': ' text', 'digitally_born': True}, 22: {'page_type': ' image', 'digitally_born': True}, 23: {'page_type': ' drawing', 'digitally_born': True}, 24: {'page_type': ' text', 'digitally_born': True}, 25: {'page_type': ' text', 'digitally_born': True}, 26: {'page_type': ' text', 'digitally_born': True}, 27: {'page_type': ' image', 'digitally_born': True}, 28: {'page_type': 'No text', 'digitally_born': False}, 29: {'page_type': ' image', 'digitally_born': True}, 30: {'page_type': 'No text', 'digitally_born': False}, 31: {'page_type': ' text', 'digitally_born': True}, 32: {'page_type': ' image', 'digitally_born': True}, 33: {'page_type': ' text', 'digitally_born': True}, 34: {'page_type': ' text', 'digitally_born': True}}}\n"
     ]
    }
   ],
   "source": [
    "predictions = process_documents(pdf_path, classify_pages)\n",
    "with open(os.path.join(base_dir,\"data/predictions.json\"), 'w', encoding='utf-8') as json_file:\n",
    "        json.dump(predictions, json_file, indent=4, ensure_ascii=False)"
   ]
  }
 ],
 "metadata": {
  "kernelspec": {
   "display_name": "venv",
   "language": "python",
   "name": "python3"
  },
  "language_info": {
   "codemirror_mode": {
    "name": "ipython",
    "version": 3
   },
   "file_extension": ".py",
   "mimetype": "text/x-python",
   "name": "python",
   "nbconvert_exporter": "python",
   "pygments_lexer": "ipython3",
   "version": "3.10.12"
  }
 },
 "nbformat": 4,
 "nbformat_minor": 2
}
