{
 "cells": [
  {
   "cell_type": "code",
   "execution_count": 1,
   "metadata": {},
   "outputs": [],
   "source": [
    "%load_ext autoreload\n",
    "%autoreload 2\n",
    "\n",
    "import os\n",
    "import pymupdf\n",
    "import numpy as np\n",
    "\n",
    "from text import  TextWord, extract_words\n",
    "from detect_language import detect_language_of_document\n",
    "from bounding_box import cluster_drawings\n"
   ]
  },
  {
   "cell_type": "code",
   "execution_count": 2,
   "metadata": {},
   "outputs": [],
   "source": [
    "base_dir = os.getcwd()\n",
    "filename =\"Berichte_NAB 10-025_Kurzarbeitsprogram Geothermiebohrung Schlattingen.PDF\"\n",
    "#filename = \"ntb88-007.pdf\"\n",
    "#filename = \"43283.pdf\"\n",
    "\n",
    "pdf_path = os.path.join(base_dir, \"data/NAB\", filename)\n",
    "out_dir = os.path.join(base_dir, \"data/test\", os.path.splitext(filename)[0])\n"
   ]
  },
  {
   "cell_type": "code",
   "execution_count": 3,
   "metadata": {},
   "outputs": [],
   "source": [
    "def is_digitally_born(page: pymupdf.Page) -> bool:\n",
    "    bboxes = page.get_bboxlog()\n",
    "\n",
    "    for boxType, rectangle in bboxes:\n",
    "        # Empty rectangle that should be ignored occurs sometimes, e.g. SwissGeol 44191 page 37.\n",
    "        if (boxType == \"fill-text\" or boxType == \"stroke-text\") and not pymupdf.Rect(rectangle).is_empty:\n",
    "            return True\n",
    "    return False"
   ]
  },
  {
   "cell_type": "code",
   "execution_count": 4,
   "metadata": {},
   "outputs": [],
   "source": [
    "def classify_text_density(words, page_size):\n",
    "    \"\"\"\n",
    "    Classifies a page as text-heavy or image-heavy based on word distribution.\n",
    "    - words: List of TextWord objects\n",
    "    - page_size: Tuple (width, height) of the page\n",
    "    Returns:\n",
    "        \"text\" if the page is likely a text page, otherwise \"image\".\n",
    "    \"\"\"\n",
    "    if not words:\n",
    "        return \"No text\"\n",
    "\n",
    "    text_density = len(words) / (page_size[0] * page_size[1])  # Simple density \n",
    "    avg_word_height = sum(word.rect.height for word in words) / len(words)\n",
    "\n",
    "    density_threshold = 0.0001  # Lower means more likely to be an image-heavy page\n",
    "    height_threshold = 20  # If words are very large, the page may contain figures\n",
    "\n",
    "    if text_density > density_threshold and avg_word_height < height_threshold:\n",
    "        return \"much text\"\n",
    "    return \"little text\""
   ]
  },
  {
   "cell_type": "code",
   "execution_count": 98,
   "metadata": {},
   "outputs": [],
   "source": [
    "import matplotlib.pyplot as plt\n",
    "from scipy.spatial.distance import pdist, squareform\n",
    "from scipy.sparse.csgraph import laplacian\n",
    "#use entroy, clustering, spacing frequency? or matriyy that shows conectivity? -> laplacian, knn isolation score or simple distance matrix?\n",
    "\n",
    "def classify_wordpos(words: list[TextWord]):\n",
    "    \"\"\"Classifies text structure on page based on distribution.\"\"\"\n",
    "    \n",
    "    if not words:\n",
    "        print( \"Unknown\")\n",
    "        return\n",
    "\n",
    "    # Extract Y-axis positions and widths\n",
    "    y_positions = np.array([word.rect.y0 for word in words])\n",
    "    x_positions = np.array([word.rect.x0 for word in words])\n",
    "    widths = np.array([word.rect.x1 - word.rect.x0 for word in words])\n",
    "    heights = np.array([word.rect.y1 - word.rect.y0 for word in words])\n",
    "\n",
    "    plt.hist2d(x_positions, y_positions, bins=(20, 20), cmap='Blues')\n",
    "    plt.xlabel(\"X Position\")\n",
    "    plt.ylabel(\"Y Position\")\n",
    "    plt.gca().invert_yaxis()\n",
    "    plt.title(\"Text Bounding Box Distribution\")\n",
    "    plt.colorbar(label=\"Frequency\")\n",
    "    plt.show()\n",
    "\n",
    "    # Compute pairwise Euclidean distances\n",
    "    dist_matrix = squareform(pdist(y_positions.reshape(-1, 1)))\n",
    "    # Convert distance matrix into a similarity graph (thresholding)\n",
    "    threshold = np.percentile(dist_matrix, 20)  # Adjust threshold for connectivity\n",
    "    graph_matrix = (dist_matrix < threshold).astype(int)\n",
    "    # Compute Laplacian matrix\n",
    "    lap_matrix = laplacian(graph_matrix, normed=True)\n",
    "   \n",
    "     \n",
    "    # Compute spacing bewtween word to next word\n",
    "    y_spacing = np.diff(np.sort(y_positions))  # Vertical distances\n",
    "    x_spacing = np.diff(np.sort(x_positions))  # Horizontal distancs\n",
    "    \n",
    "    mean_y_spacing = np.mean(y_spacing) if len(y_spacing) > 0 else 0\n",
    "    median_x_spacing = np.median(x_spacing) if len(x_spacing) > 0 else 0\n",
    "    width_std = np.std(widths)\n",
    "    height_std = np.std(heights)\n",
    "     \n",
    "    print(f\"mean_y_spacing: {mean_y_spacing }\")\n",
    "    print(f\"median width :{np.median(widths) }\")\n",
    "    print(f\"width_std: {width_std }\")\n",
    "    print(f\"median_x_spacing :{median_x_spacing }\")\n",
    "    print(f\"height_std:{height_std}\")\n",
    "    print()\n"
   ]
  },
  {
   "cell_type": "code",
   "execution_count": 99,
   "metadata": {},
   "outputs": [
    {
     "name": "stdout",
     "output_type": "stream",
     "text": [
      "Page: 1 little text\n"
     ]
    },
    {
     "data": {
      "image/png": "[encoded data removed]",
      "text/plain": [
       "<Figure size 640x480 with 2 Axes>"
      ]
     },
     "metadata": {},
     "output_type": "display_data"
    },
    {
     "name": "stdout",
     "output_type": "stream",
     "text": [
      "mean_y_spacing: 24.452549274151142\n",
      "median width :40.39642333984375\n",
      "width_std: 61.94029531954457\n",
      "median_x_spacing :4.016693115234375\n",
      "height_std:12.810119532907168\n",
      "\n",
      "Page: 2 No text\n",
      "Unknown\n"
     ]
    }
   ],
   "source": [
    "#classify page based on text\n",
    "with pymupdf.open(pdf_path) as doc:\n",
    "    for page_index,page in enumerate(doc):\n",
    "        if page_index >1:\n",
    "           break \n",
    "        page_number = page_index +1\n",
    "        page_size = (page.rect.width, page.rect.height)\n",
    "        \n",
    "        words = extract_words(page, page_number)\n",
    "        print(f\"Page: {page_number}\",classify_text_density(words,page_size))\n",
    "        classify_wordpos(words)\n",
    "        "
   ]
  },
  {
   "cell_type": "code",
   "execution_count": 7,
   "metadata": {},
   "outputs": [],
   "source": [
    "def classify_digital(page):\n",
    "    if page.get_images():\n",
    "        return \" image\"\n",
    "\n",
    "    drawings = page.get_drawings()\n",
    "    if drawings:\n",
    "        clustered_boxes = cluster_drawings(drawings)\n",
    "\n",
    "        for cluster in clustered_boxes: #filter out small bboxes\n",
    "            if cluster.get_area() > 100000:\n",
    "                return \" drawing\"\n",
    "    return \" text\""
   ]
  },
  {
   "cell_type": "code",
   "execution_count": 8,
   "metadata": {},
   "outputs": [
    {
     "name": "stdout",
     "output_type": "stream",
     "text": [
      "Page 1:  drawing\n",
      "Page 2: No text\n",
      "Page 3:  text\n",
      "Page 4:  text\n",
      "Page 5:  text\n",
      "Page 6:  text\n",
      "Page 7:  text\n",
      "Page 8:  image\n",
      "Page 9:  text\n",
      "Page 10:  image\n",
      "Page 11:  image\n",
      "Page 12:  image\n",
      "Page 13:  text\n",
      "Page 14:  drawing\n",
      "Page 15:  text\n",
      "Page 16:  text\n",
      "Page 17:  text\n",
      "Page 18:  text\n",
      "Page 19:  text\n",
      "Page 20:  text\n",
      "Page 21:  text\n",
      "Page 22:  image\n",
      "Page 23:  drawing\n",
      "Page 24:  text\n",
      "Page 25:  text\n",
      "Page 26:  text\n",
      "Page 27:  image\n",
      "Page 28: No text\n",
      "Page 29:  image\n",
      "Page 30: No text\n",
      "Page 31:  text\n",
      "Page 32:  image\n",
      "Page 33:  text\n",
      "Page 34:  text\n"
     ]
    }
   ],
   "source": [
    "##classify pdf based on image, drawing and text\n",
    "with pymupdf.open(pdf_path) as doc:\n",
    "\n",
    "    language = detect_language_of_document(doc)\n",
    "\n",
    "    for page_index, page in enumerate(doc):\n",
    "        page_number = page_index + 1\n",
    "        page_size = (page.rect.width, page.rect.height)\n",
    "        \n",
    "        digitally_born = is_digitally_born(doc[page_index])\n",
    "\n",
    "        if digitally_born:\n",
    "            page_type = classify_digital(page)\n",
    "        \n",
    "        else:\n",
    "            words = extract_words(page, page_number)\n",
    "            page_type = classify_text_density(words, page_size)\n",
    "        \n",
    "        print(f\"Page {page_number}: {page_type}\")\n",
    "        #print(f\"Digitally born: {digitally_born}\")\n",
    "        #print()\n"
   ]
  }
 ],
 "metadata": {
  "kernelspec": {
   "display_name": "venv",
   "language": "python",
   "name": "python3"
  },
  "language_info": {
   "codemirror_mode": {
    "name": "ipython",
    "version": 3
   },
   "file_extension": ".py",
   "mimetype": "text/x-python",
   "name": "python",
   "nbconvert_exporter": "python",
   "pygments_lexer": "ipython3",
   "version": "3.10.12"
  }
 },
 "nbformat": 4,
 "nbformat_minor": 2
}
