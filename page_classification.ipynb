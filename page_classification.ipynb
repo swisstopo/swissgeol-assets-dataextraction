{
 "cells": [
  {
   "cell_type": "code",
   "execution_count": null,
   "metadata": {},
   "outputs": [
    {
     "name": "stdout",
     "output_type": "stream",
     "text": [
      "The autoreload extension is already loaded. To reload it, use:\n",
      "  %reload_ext autoreload\n"
     ]
    }
   ],
   "source": [
    "%load_ext autoreload\n",
    "%autoreload 2\n",
    "\n",
    "import os\n",
    "import pymupdf\n",
    "import numpy as np\n",
    "\n",
    "from text import  TextWord, extract_words\n",
    "from detect_language import detect_language_of_document\n",
    "from bounding_box import cluster_drawings\n"
   ]
  },
  {
   "cell_type": "code",
   "execution_count": 18,
   "metadata": {},
   "outputs": [],
   "source": [
    "base_dir = os.getcwd()\n",
    "filename =\"Berichte_NAB 10-025_Kurzarbeitsprogram Geothermiebohrung Schlattingen.PDF\"\n",
    "#filename = \"ntb88-007.pdf\"\n",
    "\n",
    "pdf_path = os.path.join(base_dir, \"data/NAB\", filename)\n",
    "out_dir = os.path.join(base_dir, \"data/test\", os.path.splitext(filename)[0])\n"
   ]
  },
  {
   "cell_type": "code",
   "execution_count": 8,
   "metadata": {},
   "outputs": [],
   "source": [
    "def is_digitally_born(page: pymupdf.Page) -> bool:\n",
    "    bboxes = page.get_bboxlog()\n",
    "\n",
    "    for boxType, rectangle in bboxes:\n",
    "        # Empty rectangle that should be ignored occurs sometimes, e.g. SwissGeol 44191 page 37.\n",
    "        if (boxType == \"fill-text\" or boxType == \"stroke-text\") and not pymupdf.Rect(rectangle).is_empty:\n",
    "            return True\n",
    "    return False"
   ]
  },
  {
   "cell_type": "code",
   "execution_count": 14,
   "metadata": {},
   "outputs": [],
   "source": [
    "def classify_by_text_density(words, page_size):\n",
    "    \"\"\"\n",
    "    Classifies a page as text-heavy or image-heavy based on word distribution.\n",
    "    - words: List of TextWord objects\n",
    "    - page_size: Tuple (width, height) of the page\n",
    "    Returns:\n",
    "        \"text\" if the page is likely a text page, otherwise \"image\".\n",
    "    \"\"\"\n",
    "    if not words:\n",
    "        return \"No Words on Page\"\n",
    "\n",
    "    text_density = len(words) / (page_size[0] * page_size[1])  # Simple density \n",
    "    avg_word_height = sum(word.rect.height for word in words) / len(words)\n",
    "\n",
    "    density_threshold = 0.0001  # Lower means more likely to be an image-heavy page\n",
    "    height_threshold = 20  # If words are very large, the page may contain figures\n",
    "\n",
    "    if text_density > density_threshold and avg_word_height < height_threshold:\n",
    "        return \"text\"\n",
    "    return \"image\""
   ]
  },
  {
   "cell_type": "code",
   "execution_count": 10,
   "metadata": {},
   "outputs": [],
   "source": [
    "\n",
    "def classify_textpos(words: list[TextWord]):\n",
    "    \"\"\"Classifies text structure on page based on distribution.\"\"\"\n",
    "    \n",
    "    if not words:\n",
    "        print( \"Unknown\")\n",
    "        return\n",
    "\n",
    "    # Extract Y-axis positions and widths\n",
    "    y_positions = np.array([word.rect.y0 for word in words])\n",
    "    x_positions = np.array([word.rect.x0 for word in words])\n",
    "    widths = np.array([word.rect.x1 - word.rect.x0 for word in words])\n",
    "    heights = np.array([word.rect.y1 - word.rect.y0 for word in words])\n",
    "    \n",
    "    # Compute spacing bewtween words\n",
    "    y_spacing = np.diff(np.sort(y_positions))  # Vertical distances\n",
    "    x_spacing = np.diff(np.sort(x_positions))  # Horizontal distancs\n",
    "\n",
    "    median_y_spacing = np.median(y_spacing) if len(y_spacing) > 0 else 0\n",
    "    median_x_spacing = np.median(x_spacing) if len(x_spacing) > 0 else 0\n",
    "    width_std = np.std(widths)\n",
    "    height_std = np.std(heights)\n",
    "     \n",
    "    print(f\"median_y_spacing: {median_y_spacing }\")\n",
    "    print(f\"median width :{np.median(widths) }\")\n",
    "    print(f\"width_std: {width_std }\")\n",
    "    print(f\"median_x_spacing :{median_x_spacing }\")\n",
    "    print(f\"height_std:{height_std}\")\n",
    "    print()"
   ]
  },
  {
   "cell_type": "code",
   "execution_count": 20,
   "metadata": {},
   "outputs": [
    {
     "name": "stdout",
     "output_type": "stream",
     "text": [
      "image\n",
      "No Words on Page\n",
      "image\n",
      "text\n",
      "text\n",
      "text\n",
      "text\n",
      "image\n",
      "text\n",
      "image\n",
      "image\n",
      "text\n",
      "text\n",
      "text\n",
      "text\n",
      "text\n",
      "text\n",
      "text\n",
      "text\n",
      "text\n",
      "text\n",
      "text\n",
      "text\n",
      "text\n",
      "text\n",
      "text\n",
      "image\n",
      "No Words on Page\n",
      "image\n",
      "No Words on Page\n",
      "text\n",
      "image\n",
      "text\n",
      "text\n"
     ]
    }
   ],
   "source": [
    "#classify page based on text\n",
    "with pymupdf.open(pdf_path) as doc:\n",
    "    for page_index,page in enumerate(doc):\n",
    "        page_number = page_index +1\n",
    "        page_size = (page.rect.width, page.rect.height)\n",
    "        \n",
    "        words = extract_words(page, page_number)\n",
    "        print(classify_by_text_density(words,page_size))\n",
    "        #print(classify_textpos(words))"
   ]
  },
  {
   "cell_type": "code",
   "execution_count": 25,
   "metadata": {},
   "outputs": [],
   "source": [
    "def classify_digital(page):\n",
    "    if page.get_images():\n",
    "        return \"image\"\n",
    "\n",
    "    drawings = page.get_drawings()\n",
    "    if drawings:\n",
    "        clustered_boxes = cluster_drawings(drawings)\n",
    "\n",
    "        for cluster in clustered_boxes: #filter out small bboxes\n",
    "            if cluster.get_area() > 100000:\n",
    "                return \"drawing\"\n",
    "    return \"text\""
   ]
  },
  {
   "cell_type": "code",
   "execution_count": 26,
   "metadata": {},
   "outputs": [
    {
     "name": "stdout",
     "output_type": "stream",
     "text": [
      "Page 1: drawing\n",
      "Page 2: No Words on Page\n",
      "Page 3: text\n",
      "Page 4: text\n",
      "Page 5: text\n",
      "Page 6: text\n",
      "Page 7: text\n",
      "Page 8: image\n",
      "Page 9: text\n",
      "Page 10: image\n",
      "Page 11: image\n",
      "Page 12: image\n",
      "Page 13: text\n",
      "Page 14: drawing\n",
      "Page 15: text\n",
      "Page 16: text\n",
      "Page 17: text\n",
      "Page 18: text\n",
      "Page 19: text\n",
      "Page 20: text\n",
      "Page 21: text\n",
      "Page 22: image\n",
      "Page 23: drawing\n",
      "Page 24: text\n",
      "Page 25: text\n",
      "Page 26: text\n",
      "Page 27: image\n",
      "Page 28: No Words on Page\n",
      "Page 29: image\n",
      "Page 30: No Words on Page\n",
      "Page 31: text\n",
      "Page 32: image\n",
      "Page 33: text\n",
      "Page 34: text\n"
     ]
    }
   ],
   "source": [
    "##classify pdf based on image, drawing and text\n",
    "with pymupdf.open(pdf_path) as doc:\n",
    "\n",
    "    language = detect_language_of_document(doc)\n",
    "\n",
    "    for page_index, page in enumerate(doc):\n",
    "        page_number = page_index + 1\n",
    "        page_size = (page.rect.width, page.rect.height)\n",
    "        \n",
    "        digitally_born = is_digitally_born(doc[page_index])\n",
    "\n",
    "        if digitally_born:\n",
    "            page_type = classify_digital(page)\n",
    "        \n",
    "        else:\n",
    "            words = extract_words(page, page_number)\n",
    "            page_type = classify_by_text_density(words, page_size)\n",
    "        \n",
    "        print(f\"Page {page_number}: {page_type}\")\n",
    "        #print(f\"Digitally born: {digitally_born}\")\n",
    "        #print()\n"
   ]
  }
 ],
 "metadata": {
  "kernelspec": {
   "display_name": "venv",
   "language": "python",
   "name": "python3"
  },
  "language_info": {
   "codemirror_mode": {
    "name": "ipython",
    "version": 3
   },
   "file_extension": ".py",
   "mimetype": "text/x-python",
   "name": "python",
   "nbconvert_exporter": "python",
   "pygments_lexer": "ipython3",
   "version": "3.10.12"
  }
 },
 "nbformat": 4,
 "nbformat_minor": 2
}
