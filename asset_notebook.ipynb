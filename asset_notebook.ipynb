{
 "cells": [
  {
   "cell_type": "code",
   "execution_count": 1,
   "metadata": {},
   "outputs": [],
   "source": [
    "%load_ext autoreload\n",
    "%autoreload 2\n",
    "\n",
    "import os\n",
    "import fitz\n",
    "from utils import process_documents, TextWord\n",
    "import pdfplumber\n",
    "\n",
    "base_dir = os.getcwd()"
   ]
  },
  {
   "cell_type": "code",
   "execution_count": 2,
   "metadata": {},
   "outputs": [],
   "source": [
    "pdf_path = \"data/NAB/Berichte_NAB 10-025_Kurzarbeitsprogram Geothermiebohrung Schlattingen.PDF\""
   ]
  },
  {
   "cell_type": "code",
   "execution_count": 3,
   "metadata": {},
   "outputs": [
    {
     "ename": "SyntaxError",
     "evalue": "incomplete input (1314656641.py, line 3)",
     "output_type": "error",
     "traceback": [
      "\u001b[0;36m  Cell \u001b[0;32mIn[3], line 3\u001b[0;36m\u001b[0m\n\u001b[0;31m    #print(f\"Document: {page_num}:\\n {text}\")\u001b[0m\n\u001b[0m                                             ^\u001b[0m\n\u001b[0;31mSyntaxError\u001b[0m\u001b[0;31m:\u001b[0m incomplete input\n"
     ]
    }
   ],
   "source": [
    "document_text = process_documents(pdf_path)\n",
    "for page_num, text in document_text.items():\n",
    "    #print(f\"Document: {page_num}:\\n {text}\")"
   ]
  },
  {
   "cell_type": "code",
   "execution_count": null,
   "metadata": {},
   "outputs": [],
   "source": [
    "## save to json file\n",
    "import json\n",
    "output_path = \"data/text_files/text_files.json\"\n",
    "\n",
    "with open(output_path, \"w\", encoding = \"utf-8\") as file:\n",
    "    json.dump(document_text, file)"
   ]
  },
  {
   "cell_type": "code",
   "execution_count": 7,
   "metadata": {},
   "outputs": [],
   "source": [
    "doc = fitz.open(pdf_path)\n",
    "\n",
    "page_text= {}\n",
    "for page_index, page in enumerate(doc):\n",
    "    page_number = page_index + 1\n",
    "    words = []\n",
    "    for x0, y0, x1, y1, word, block_no, line_no, _word_no in page.get_text(\"words\"):\n",
    "        rect = fitz.Rect(x0, y0, x1, y1) * page.rotation_matrix\n",
    "        text_word = TextWord(rect= rect, text = word, page = page_number)\n",
    "        words.append(text_word)\n",
    "       "
   ]
  },
  {
   "cell_type": "code",
   "execution_count": 8,
   "metadata": {},
   "outputs": [
    {
     "name": "stdout",
     "output_type": "stream",
     "text": [
      "{'matrix': (1.0, 0.0, 0.0, 1.0, 248.8011, 646.3766), 'fontname': 'ZNCZOH+NagraDinBold', 'adv': 24.080000000000002, 'upright': True, 'x0': 248.8011, 'y0': 637.5186000000001, 'x1': 272.8811, 'y1': 680.5186000000001, 'width': 24.080000000000013, 'height': 43.0, 'size': 43.0, 'mcid': None, 'tag': 'OC', 'object_type': 'char', 'page_number': 1, 'ncs': 'DeviceCMYK', 'text': 'b', 'stroking_color': None, 'stroking_pattern': None, 'non_stroking_color': (0.0, 0.0, 0.0, 1.0), 'non_stroking_pattern': None, 'top': 161.37139999999988, 'bottom': 204.37139999999988, 'doctop': 161.37139999999988}\n",
      "Berichtsvorlage\n"
     ]
    }
   ],
   "source": [
    "with pdfplumber.open(pdf_path) as pdf:\n",
    "    first_page = pdf.pages[0]     \n",
    "    print(first_page.chars[2])   \n",
    "print(pdf.metadata[\"Title\"])"
   ]
  }
 ],
 "metadata": {
  "kernelspec": {
   "display_name": "venv",
   "language": "python",
   "name": "python3"
  },
  "language_info": {
   "codemirror_mode": {
    "name": "ipython",
    "version": 3
   },
   "file_extension": ".py",
   "mimetype": "text/x-python",
   "name": "python",
   "nbconvert_exporter": "python",
   "pygments_lexer": "ipython3",
   "version": "3.10.12"
  }
 },
 "nbformat": 4,
 "nbformat_minor": 2
}
