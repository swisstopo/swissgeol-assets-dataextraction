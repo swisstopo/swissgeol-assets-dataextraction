{
 "cells": [
  {
   "cell_type": "code",
   "execution_count": 77,
   "metadata": {},
   "outputs": [
    {
     "name": "stdout",
     "output_type": "stream",
     "text": [
      "The autoreload extension is already loaded. To reload it, use:\n",
      "  %reload_ext autoreload\n"
     ]
    }
   ],
   "source": [
    "%load_ext autoreload\n",
    "%autoreload 2\n",
    "\n",
    "import os\n",
    "import fitz\n",
    "import json\n",
    "import yaml\n",
    "import regex\n",
    "\n",
    "from utils import  TextWord,create_text_lines, merge_text_lines\n",
    "from detect_language import detect_language_of_document\n",
    "from keyword_finding import get_keywords_by_language, find_keywords, TOC\n",
    "\n",
    "base_dir = os.getcwd()"
   ]
  },
  {
   "cell_type": "code",
   "execution_count": 36,
   "metadata": {},
   "outputs": [],
   "source": [
    "pdf_path = \"data/NAB/Berichte_NAB 10-025_Kurzarbeitsprogram Geothermiebohrung Schlattingen.PDF\"\n",
    "output_path = \"data/predictions.json\"\n",
    "\n",
    "with open(os.path.join(base_dir, \"matching_params.yml\"), \"r\") as params_file:\n",
    "    matching_params = yaml.safe_load(params_file)"
   ]
  },
  {
   "cell_type": "code",
   "execution_count": 29,
   "metadata": {},
   "outputs": [],
   "source": [
    "def extract_by_bookmarks(doc: fitz.Document) :\n",
    "        \"\"\"Extracts TOC using PDF bookmarks.\"\"\"\n",
    "        toc = doc.get_toc()\n",
    "        if toc:\n",
    "            entries = [{\"heading\": title, \"page\": page, \"level\": level} for level, title, page in toc]\n",
    "            return TOC(entries=entries)\n",
    "        return None\n",
    "\n",
    "def extract_by_keyword(language, matching_params):      \n",
    "    pass"
   ]
  },
  {
   "cell_type": "code",
   "execution_count": 92,
   "metadata": {},
   "outputs": [],
   "source": [
    "with fitz.open(pdf_path) as doc:\n",
    "    text_lines = create_text_lines(doc) # doesnt correctly split lines yet ...\n",
    "    #merged_text_lines = merge_text_lines(text_lines)\n",
    "    for line in text_lines:\n",
    "       # print(line.line_text())\n",
    "\n",
    "        pass"
   ]
  },
  {
   "cell_type": "code",
   "execution_count": 49,
   "metadata": {},
   "outputs": [],
   "source": [
    "with fitz.Document(pdf_path) as doc:\n",
    "    language = detect_language_of_document(doc)\n",
    "\n",
    "    table_of_content = extract_by_bookmarks(doc)\n",
    "    keywords = get_keywords_by_language(language, matching_params)\n",
    "    found_keywords = []\n",
    "    for page_index, page in enumerate(doc):\n",
    "        page_number = page_index + 1\n",
    "        words = []\n",
    "        words_by_line = {}\n",
    "\n",
    "        for x0, y0, x1, y1, word, block_no, line_no, _word_no in page.get_text(\"words\"):\n",
    "            rect = fitz.Rect(x0, y0, x1, y1) * page.rotation_matrix\n",
    "            text_word = TextWord(rect= rect, text = word, page = page_number)\n",
    "            words.append(text_word)\n",
    "            key=find_keywords(text_word, keywords)\n",
    "            if key:\n",
    "                found_keywords.append(key)\n",
    "                \n",
    "    table_of_content=table_of_content.to_dict()"
   ]
  },
  {
   "cell_type": "code",
   "execution_count": null,
   "metadata": {},
   "outputs": [
    {
     "name": "stdout",
     "output_type": "stream",
     "text": [
      "TextLine(Rect(10.0, 20.0, 100.0, 30.0),Hello World)\n",
      "Cannot create an empty TextLine.\n"
     ]
    }
   ],
   "source": []
  },
  {
   "cell_type": "code",
   "execution_count": 41,
   "metadata": {},
   "outputs": [],
   "source": [
    "with open(output_path, \"w\", encoding = \"utf-8\") as file:\n",
    "    json.dump(table_of_content, file)"
   ]
  },
  {
   "cell_type": "code",
   "execution_count": 16,
   "metadata": {},
   "outputs": [],
   "source": [
    "def show_image(item, title=\"\"):\n",
    "    DPI = 150  # use this resolution\n",
    "    import numpy as np\n",
    "    import matplotlib.pyplot as plt\n",
    "\n",
    "    # %matplotlib inline\n",
    "    pix = item.get_pixmap(dpi=DPI)\n",
    "    img = np.ndarray([pix.h, pix.w, 3], dtype=np.uint8, buffer=pix.samples_mv)\n",
    "    plt.figure(dpi=DPI)  # set the figure's DPI\n",
    "    plt.title(title)  # set title of image\n",
    "    _ = plt.imshow(img, extent=(0, pix.w * 72 / DPI, pix.h * 72 / DPI, 0))\n",
    "\n",
    "if not hasattr(fitz.Page, \"find_tables\"):\n",
    "    raise RuntimeError(\"This PyMuPDF version does not support the table feature\")"
   ]
  },
  {
   "cell_type": "code",
   "execution_count": 93,
   "metadata": {},
   "outputs": [],
   "source": [
    "with fitz.Document(pdf_path) as doc:\n",
    "    page = doc[11]\n",
    "    tabs = page.find_tables()  # detect the tables\n",
    "    for i,tab in enumerate(tabs):  # iterate over all tables\n",
    "        for cell in tab.header.cells:\n",
    "            page.draw_rect(cell,color=fitz.pdfcolor[\"red\"],width=0.3)\n",
    "        page.draw_rect(tab.bbox,color=fitz.pdfcolor[\"green\"])\n",
    "        print(f\"Table {i} column names: {tab.header.names}, external: {tab.header.external}\")\n",
    "        \n",
    "    #show_image(page, f\"Table & Header BBoxes\")"
   ]
  }
 ],
 "metadata": {
  "kernelspec": {
   "display_name": "venv",
   "language": "python",
   "name": "python3"
  },
  "language_info": {
   "codemirror_mode": {
    "name": "ipython",
    "version": 3
   },
   "file_extension": ".py",
   "mimetype": "text/x-python",
   "name": "python",
   "nbconvert_exporter": "python",
   "pygments_lexer": "ipython3",
   "version": "3.10.12"
  }
 },
 "nbformat": 4,
 "nbformat_minor": 2
}
