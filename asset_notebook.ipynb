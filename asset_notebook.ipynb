{
 "cells": [
  {
   "cell_type": "code",
   "execution_count": 19,
   "metadata": {},
   "outputs": [
    {
     "name": "stdout",
     "output_type": "stream",
     "text": [
      "The autoreload extension is already loaded. To reload it, use:\n",
      "  %reload_ext autoreload\n"
     ]
    }
   ],
   "source": [
    "%load_ext autoreload\n",
    "%autoreload 2\n",
    "\n",
    "import os\n",
    "import fitz\n",
    "import json\n",
    "\n",
    "\n",
    "from utils import  TextWord,create_text_lines\n",
    "from detect_language import detect_language_of_document\n",
    "from keyword_finding import get_keywords_by_language\n",
    "from TOCExtractor import TOCExtractor\n",
    "import yaml\n",
    "base_dir = os.getcwd()"
   ]
  },
  {
   "cell_type": "code",
   "execution_count": 32,
   "metadata": {},
   "outputs": [],
   "source": [
    "pdf_path = \"data/NAB/Berichte_NAB 10-025_Kurzarbeitsprogram Geothermiebohrung Schlattingen.PDF\"\n",
    "output_path = \"data/predictions.json\"\n",
    "\n",
    "with open(os.path.join(base_dir, \"matching_params.yml\"), \"r\") as params_file:\n",
    "    matching_params = yaml.safe_load(params_file)"
   ]
  },
  {
   "cell_type": "code",
   "execution_count": 34,
   "metadata": {},
   "outputs": [
    {
     "name": "stdout",
     "output_type": "stream",
     "text": [
      "Unmatched line: Tabellenverzeichnis\n",
      "Header: Inhaltsverzeichnis, Page: I\n",
      "Header: Tabellenverzeichnis, Page: I\n",
      "Header: Figurenverzeichnis, Page: II\n",
      "Header: Einleitung und Zielsetzung, Page: 1\n",
      "Header: Geologie, Page: 3\n",
      "Header: Beschreibung des Untersuchungsgebietes, Page: 3\n",
      "Header: Prognose Bohrprofil, Page: 6\n",
      "Header: Bohrarbeiten, Page: 7\n",
      "Header: Bohrspülung, Page: 9\n",
      "Header: Vorgesehene Untersuchungen, Page: 11\n",
      "Header: Bohrstellen-Geologie, Page: 11\n",
      "Header: Bohrloch-Geophysik, Page: 13\n",
      "Header: Hydrogeologie und Hydrochemie, Page: 16\n",
      "Header: Geotechnik und Felsmechanik, Page: 19\n",
      "Header: Bohrplatz, Page: 23\n",
      "Header: Projektorganisation, Page: 25\n",
      "Header: Referenzen, Page: 27\n",
      "TOC(entries=[{'header': 'Inhaltsverzeichnis', 'page': 'I'}, {'header': 'Tabellenverzeichnis', 'page': 'I'}, {'header': 'Figurenverzeichnis', 'page': 'II'}, {'header': 'Einleitung und Zielsetzung', 'page': '1'}, {'header': 'Geologie', 'page': '3'}, {'header': 'Beschreibung des Untersuchungsgebietes', 'page': '3'}, {'header': 'Prognose Bohrprofil', 'page': '6'}, {'header': 'Bohrarbeiten', 'page': '7'}, {'header': 'Bohrspülung', 'page': '9'}, {'header': 'Vorgesehene Untersuchungen', 'page': '11'}, {'header': 'Bohrstellen-Geologie', 'page': '11'}, {'header': 'Bohrloch-Geophysik', 'page': '13'}, {'header': 'Hydrogeologie und Hydrochemie', 'page': '16'}, {'header': 'Geotechnik und Felsmechanik', 'page': '19'}, {'header': 'Bohrplatz', 'page': '23'}, {'header': 'Projektorganisation', 'page': '25'}, {'header': 'Referenzen', 'page': '27'}])\n"
     ]
    }
   ],
   "source": [
    "with fitz.open(pdf_path) as doc:\n",
    "\n",
    "    text_lines = create_text_lines(doc) \n",
    "    language = detect_language_of_document(doc)\n",
    "\n",
    "    extractor = TOCExtractor(matching_params)\n",
    "\n",
    "    # Extract the TOC\n",
    "    table_of_content = extractor.extract_toc(doc,text_lines, language)\n",
    "\n",
    "    # Output results\n",
    "    if table_of_content:\n",
    "        for entry in table_of_content.entries:\n",
    "            print(f\"Header: {entry['header']}, Page: {entry['page']}\")\n",
    "    else:\n",
    "        print(\"No TOC found.\")\n",
    "    \n",
    "    print(table_of_content)"
   ]
  },
  {
   "cell_type": "code",
   "execution_count": 41,
   "metadata": {},
   "outputs": [],
   "source": [
    "with open(output_path, \"w\", encoding = \"utf-8\") as file:\n",
    "    json.dump(table_of_content, file)"
   ]
  },
  {
   "cell_type": "code",
   "execution_count": 16,
   "metadata": {},
   "outputs": [],
   "source": [
    "def show_image(item, title=\"\"):\n",
    "    DPI = 150  # use this resolution\n",
    "    import numpy as np\n",
    "    import matplotlib.pyplot as plt\n",
    "\n",
    "    # %matplotlib inline\n",
    "    pix = item.get_pixmap(dpi=DPI)\n",
    "    img = np.ndarray([pix.h, pix.w, 3], dtype=np.uint8, buffer=pix.samples_mv)\n",
    "    plt.figure(dpi=DPI)  # set the figure's DPI\n",
    "    plt.title(title)  # set title of image\n",
    "    _ = plt.imshow(img, extent=(0, pix.w * 72 / DPI, pix.h * 72 / DPI, 0))\n",
    "\n",
    "if not hasattr(fitz.Page, \"find_tables\"):\n",
    "    raise RuntimeError(\"This PyMuPDF version does not support the table feature\")"
   ]
  },
  {
   "cell_type": "code",
   "execution_count": 93,
   "metadata": {},
   "outputs": [],
   "source": [
    "with fitz.Document(pdf_path) as doc:\n",
    "    page = doc[11]\n",
    "    tabs = page.find_tables()  # detect the tables\n",
    "    for i,tab in enumerate(tabs):  # iterate over all tables\n",
    "        for cell in tab.header.cells:\n",
    "            page.draw_rect(cell,color=fitz.pdfcolor[\"red\"],width=0.3)\n",
    "        page.draw_rect(tab.bbox,color=fitz.pdfcolor[\"green\"])\n",
    "        print(f\"Table {i} column names: {tab.header.names}, external: {tab.header.external}\")\n",
    "        \n",
    "    #show_image(page, f\"Table & Header BBoxes\")"
   ]
  }
 ],
 "metadata": {
  "kernelspec": {
   "display_name": "venv",
   "language": "python",
   "name": "python3"
  },
  "language_info": {
   "codemirror_mode": {
    "name": "ipython",
    "version": 3
   },
   "file_extension": ".py",
   "mimetype": "text/x-python",
   "name": "python",
   "nbconvert_exporter": "python",
   "pygments_lexer": "ipython3",
   "version": "3.10.12"
  }
 },
 "nbformat": 4,
 "nbformat_minor": 2
}
